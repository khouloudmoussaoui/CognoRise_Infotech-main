{
 "cells": [
  {
   "cell_type": "markdown",
   "id": "cd00bd17",
   "metadata": {},
   "source": [
    "##### **Developed By - Khouloud Moussaoui**\n",
    "##### **Email  (khouloudmoussaoui99@gmail.com)**\n",
    "\n",
    "---\n",
    " **MACHINE LEARNING INTERNSHIP**\n",
    "## **TASK 1 : BREAST CANCER CLASSIFICATION**\n",
    "#### A Machine Learning approach for the classification of breast cancer using the different classical Machine Learning Algorithms."
   ]
  },
  {
   "cell_type": "markdown",
   "id": "ee80e878",
   "metadata": {},
   "source": [
    "![title](breastcancer.png)"
   ]
  },
  {
   "cell_type": "markdown",
   "id": "DdMpMmhC_TJP",
   "metadata": {
    "id": "DdMpMmhC_TJP"
   },
   "source": [
    "**Description** : Breast cancer is one of the most widespread diseases among women all over the world. Correct and early diagnosis is an extremely important step in rehabilitation and treatment. However, it is not an easy one due to several uncertainties in detection using mammograms. Machine Learning (ML) techniques can be used to develop tools for physicians that can be used as an effective mechanism for early detection and diagnosis of breast cancer which will greatly enhance the survival rate of patients. This project compares three of the most popular ML techniques commonly used for breast cancer detection and diagnosis, namely:\n",
    " ***K-Nearest Neighbors (KNN), \n",
    " **Random Forest Classifier, \n",
    " **Linear \n",
    "**Regression, \n",
    "**Decision Tree Classifier, \n",
    "**Logistic Regression\n"
   ]
  },
  {
   "cell_type": "markdown",
   "id": "rkZNBUFS_qlR",
   "metadata": {
    "id": "rkZNBUFS_qlR"
   },
   "source": [
    "\n",
    "**Dataset -** https://www.kaggle.com/datasets/uciml/breast-cancer-wisconsin-data\n"
   ]
  },
  {
   "cell_type": "markdown",
   "id": "27283a3c",
   "metadata": {},
   "source": [
    "# EDA"
   ]
  },
  {
   "cell_type": "code",
   "execution_count": 1,
   "id": "9d52ebe6",
   "metadata": {
    "_cell_guid": "b1076dfc-b9ad-4769-8c92-a6c4dae69d19",
    "_uuid": "8f2839f25d086af736a60e9eeb907d3b93b6e0e5",
    "execution": {
     "iopub.execute_input": "2022-10-05T16:29:47.524347Z",
     "iopub.status.busy": "2022-10-05T16:29:47.523829Z",
     "iopub.status.idle": "2022-10-05T16:29:49.164943Z",
     "shell.execute_reply": "2022-10-05T16:29:49.163642Z"
    },
    "id": "9d52ebe6",
    "papermill": {
     "duration": 1.654685,
     "end_time": "2022-10-05T16:29:49.168056",
     "exception": false,
     "start_time": "2022-10-05T16:29:47.513371",
     "status": "completed"
    },
    "tags": []
   },
   "outputs": [],
   "source": [
    "import numpy as np\n",
    "import pandas as pd\n",
    "import seaborn as sns\n",
    "import matplotlib.pyplot as plt\n",
    "sns.set_theme(style=\"whitegrid\")"
   ]
  },
  {
   "cell_type": "code",
   "execution_count": 2,
   "id": "93977c71",
   "metadata": {
    "execution": {
     "iopub.execute_input": "2022-10-05T16:29:49.184852Z",
     "iopub.status.busy": "2022-10-05T16:29:49.184455Z",
     "iopub.status.idle": "2022-10-05T16:29:49.191865Z",
     "shell.execute_reply": "2022-10-05T16:29:49.190533Z"
    },
    "id": "93977c71",
    "papermill": {
     "duration": 0.018646,
     "end_time": "2022-10-05T16:29:49.194333",
     "exception": false,
     "start_time": "2022-10-05T16:29:49.175687",
     "status": "completed"
    },
    "tags": []
   },
   "outputs": [],
   "source": [
    "# Defining the function to display the boxplot and histogram graphs\n",
    "def hist_box_plot(df, column, height=15, width=5):\n",
    "    fig, axes = plt.subplots(1, 2, figsize=(height, width))\n",
    "    sns.histplot(ax=axes[0], data = df[column]);\n",
    "    axes[0].set_title(f'Histogram for {column}')\n",
    "    sns.boxplot(ax=axes[1], data = df[column]);\n",
    "    axes[1].set_title(f'Boxplot for {column}')\n",
    "    plt.show();"
   ]
  },
  {
   "cell_type": "code",
   "execution_count": 5,
   "id": "391f4cc5",
   "metadata": {
    "colab": {
     "base_uri": "https://localhost:8080/",
     "height": 430
    },
    "execution": {
     "iopub.execute_input": "2022-10-05T16:29:49.211553Z",
     "iopub.status.busy": "2022-10-05T16:29:49.211145Z",
     "iopub.status.idle": "2022-10-05T16:29:49.238371Z",
     "shell.execute_reply": "2022-10-05T16:29:49.237249Z"
    },
    "id": "391f4cc5",
    "outputId": "64d15253-e5d0-474b-efc0-ca7fdde46800",
    "papermill": {
     "duration": 0.038652,
     "end_time": "2022-10-05T16:29:49.241219",
     "exception": false,
     "start_time": "2022-10-05T16:29:49.202567",
     "status": "completed"
    },
    "tags": []
   },
   "outputs": [
    {
     "data": {
      "text/html": [
       "<div>\n",
       "<style scoped>\n",
       "    .dataframe tbody tr th:only-of-type {\n",
       "        vertical-align: middle;\n",
       "    }\n",
       "\n",
       "    .dataframe tbody tr th {\n",
       "        vertical-align: top;\n",
       "    }\n",
       "\n",
       "    .dataframe thead th {\n",
       "        text-align: right;\n",
       "    }\n",
       "</style>\n",
       "<table border=\"1\" class=\"dataframe\">\n",
       "  <thead>\n",
       "    <tr style=\"text-align: right;\">\n",
       "      <th></th>\n",
       "      <th>id</th>\n",
       "      <th>diagnosis</th>\n",
       "      <th>radius_mean</th>\n",
       "      <th>texture_mean</th>\n",
       "      <th>perimeter_mean</th>\n",
       "      <th>area_mean</th>\n",
       "      <th>smoothness_mean</th>\n",
       "      <th>compactness_mean</th>\n",
       "      <th>concavity_mean</th>\n",
       "      <th>concave points_mean</th>\n",
       "      <th>...</th>\n",
       "      <th>texture_worst</th>\n",
       "      <th>perimeter_worst</th>\n",
       "      <th>area_worst</th>\n",
       "      <th>smoothness_worst</th>\n",
       "      <th>compactness_worst</th>\n",
       "      <th>concavity_worst</th>\n",
       "      <th>concave points_worst</th>\n",
       "      <th>symmetry_worst</th>\n",
       "      <th>fractal_dimension_worst</th>\n",
       "      <th>Unnamed: 32</th>\n",
       "    </tr>\n",
       "  </thead>\n",
       "  <tbody>\n",
       "    <tr>\n",
       "      <th>0</th>\n",
       "      <td>842302</td>\n",
       "      <td>M</td>\n",
       "      <td>17.99</td>\n",
       "      <td>10.38</td>\n",
       "      <td>122.80</td>\n",
       "      <td>1001.0</td>\n",
       "      <td>0.11840</td>\n",
       "      <td>0.27760</td>\n",
       "      <td>0.30010</td>\n",
       "      <td>0.14710</td>\n",
       "      <td>...</td>\n",
       "      <td>17.33</td>\n",
       "      <td>184.60</td>\n",
       "      <td>2019.0</td>\n",
       "      <td>0.1622</td>\n",
       "      <td>0.6656</td>\n",
       "      <td>0.7119</td>\n",
       "      <td>0.2654</td>\n",
       "      <td>0.4601</td>\n",
       "      <td>0.11890</td>\n",
       "      <td>NaN</td>\n",
       "    </tr>\n",
       "    <tr>\n",
       "      <th>1</th>\n",
       "      <td>842517</td>\n",
       "      <td>M</td>\n",
       "      <td>20.57</td>\n",
       "      <td>17.77</td>\n",
       "      <td>132.90</td>\n",
       "      <td>1326.0</td>\n",
       "      <td>0.08474</td>\n",
       "      <td>0.07864</td>\n",
       "      <td>0.08690</td>\n",
       "      <td>0.07017</td>\n",
       "      <td>...</td>\n",
       "      <td>23.41</td>\n",
       "      <td>158.80</td>\n",
       "      <td>1956.0</td>\n",
       "      <td>0.1238</td>\n",
       "      <td>0.1866</td>\n",
       "      <td>0.2416</td>\n",
       "      <td>0.1860</td>\n",
       "      <td>0.2750</td>\n",
       "      <td>0.08902</td>\n",
       "      <td>NaN</td>\n",
       "    </tr>\n",
       "    <tr>\n",
       "      <th>2</th>\n",
       "      <td>84300903</td>\n",
       "      <td>M</td>\n",
       "      <td>19.69</td>\n",
       "      <td>21.25</td>\n",
       "      <td>130.00</td>\n",
       "      <td>1203.0</td>\n",
       "      <td>0.10960</td>\n",
       "      <td>0.15990</td>\n",
       "      <td>0.19740</td>\n",
       "      <td>0.12790</td>\n",
       "      <td>...</td>\n",
       "      <td>25.53</td>\n",
       "      <td>152.50</td>\n",
       "      <td>1709.0</td>\n",
       "      <td>0.1444</td>\n",
       "      <td>0.4245</td>\n",
       "      <td>0.4504</td>\n",
       "      <td>0.2430</td>\n",
       "      <td>0.3613</td>\n",
       "      <td>0.08758</td>\n",
       "      <td>NaN</td>\n",
       "    </tr>\n",
       "    <tr>\n",
       "      <th>3</th>\n",
       "      <td>84348301</td>\n",
       "      <td>M</td>\n",
       "      <td>11.42</td>\n",
       "      <td>20.38</td>\n",
       "      <td>77.58</td>\n",
       "      <td>386.1</td>\n",
       "      <td>0.14250</td>\n",
       "      <td>0.28390</td>\n",
       "      <td>0.24140</td>\n",
       "      <td>0.10520</td>\n",
       "      <td>...</td>\n",
       "      <td>26.50</td>\n",
       "      <td>98.87</td>\n",
       "      <td>567.7</td>\n",
       "      <td>0.2098</td>\n",
       "      <td>0.8663</td>\n",
       "      <td>0.6869</td>\n",
       "      <td>0.2575</td>\n",
       "      <td>0.6638</td>\n",
       "      <td>0.17300</td>\n",
       "      <td>NaN</td>\n",
       "    </tr>\n",
       "    <tr>\n",
       "      <th>4</th>\n",
       "      <td>84358402</td>\n",
       "      <td>M</td>\n",
       "      <td>20.29</td>\n",
       "      <td>14.34</td>\n",
       "      <td>135.10</td>\n",
       "      <td>1297.0</td>\n",
       "      <td>0.10030</td>\n",
       "      <td>0.13280</td>\n",
       "      <td>0.19800</td>\n",
       "      <td>0.10430</td>\n",
       "      <td>...</td>\n",
       "      <td>16.67</td>\n",
       "      <td>152.20</td>\n",
       "      <td>1575.0</td>\n",
       "      <td>0.1374</td>\n",
       "      <td>0.2050</td>\n",
       "      <td>0.4000</td>\n",
       "      <td>0.1625</td>\n",
       "      <td>0.2364</td>\n",
       "      <td>0.07678</td>\n",
       "      <td>NaN</td>\n",
       "    </tr>\n",
       "    <tr>\n",
       "      <th>5</th>\n",
       "      <td>843786</td>\n",
       "      <td>M</td>\n",
       "      <td>12.45</td>\n",
       "      <td>15.70</td>\n",
       "      <td>82.57</td>\n",
       "      <td>477.1</td>\n",
       "      <td>0.12780</td>\n",
       "      <td>0.17000</td>\n",
       "      <td>0.15780</td>\n",
       "      <td>0.08089</td>\n",
       "      <td>...</td>\n",
       "      <td>23.75</td>\n",
       "      <td>103.40</td>\n",
       "      <td>741.6</td>\n",
       "      <td>0.1791</td>\n",
       "      <td>0.5249</td>\n",
       "      <td>0.5355</td>\n",
       "      <td>0.1741</td>\n",
       "      <td>0.3985</td>\n",
       "      <td>0.12440</td>\n",
       "      <td>NaN</td>\n",
       "    </tr>\n",
       "    <tr>\n",
       "      <th>6</th>\n",
       "      <td>844359</td>\n",
       "      <td>M</td>\n",
       "      <td>18.25</td>\n",
       "      <td>19.98</td>\n",
       "      <td>119.60</td>\n",
       "      <td>1040.0</td>\n",
       "      <td>0.09463</td>\n",
       "      <td>0.10900</td>\n",
       "      <td>0.11270</td>\n",
       "      <td>0.07400</td>\n",
       "      <td>...</td>\n",
       "      <td>27.66</td>\n",
       "      <td>153.20</td>\n",
       "      <td>1606.0</td>\n",
       "      <td>0.1442</td>\n",
       "      <td>0.2576</td>\n",
       "      <td>0.3784</td>\n",
       "      <td>0.1932</td>\n",
       "      <td>0.3063</td>\n",
       "      <td>0.08368</td>\n",
       "      <td>NaN</td>\n",
       "    </tr>\n",
       "    <tr>\n",
       "      <th>7</th>\n",
       "      <td>84458202</td>\n",
       "      <td>M</td>\n",
       "      <td>13.71</td>\n",
       "      <td>20.83</td>\n",
       "      <td>90.20</td>\n",
       "      <td>577.9</td>\n",
       "      <td>0.11890</td>\n",
       "      <td>0.16450</td>\n",
       "      <td>0.09366</td>\n",
       "      <td>0.05985</td>\n",
       "      <td>...</td>\n",
       "      <td>28.14</td>\n",
       "      <td>110.60</td>\n",
       "      <td>897.0</td>\n",
       "      <td>0.1654</td>\n",
       "      <td>0.3682</td>\n",
       "      <td>0.2678</td>\n",
       "      <td>0.1556</td>\n",
       "      <td>0.3196</td>\n",
       "      <td>0.11510</td>\n",
       "      <td>NaN</td>\n",
       "    </tr>\n",
       "    <tr>\n",
       "      <th>8</th>\n",
       "      <td>844981</td>\n",
       "      <td>M</td>\n",
       "      <td>13.00</td>\n",
       "      <td>21.82</td>\n",
       "      <td>87.50</td>\n",
       "      <td>519.8</td>\n",
       "      <td>0.12730</td>\n",
       "      <td>0.19320</td>\n",
       "      <td>0.18590</td>\n",
       "      <td>0.09353</td>\n",
       "      <td>...</td>\n",
       "      <td>30.73</td>\n",
       "      <td>106.20</td>\n",
       "      <td>739.3</td>\n",
       "      <td>0.1703</td>\n",
       "      <td>0.5401</td>\n",
       "      <td>0.5390</td>\n",
       "      <td>0.2060</td>\n",
       "      <td>0.4378</td>\n",
       "      <td>0.10720</td>\n",
       "      <td>NaN</td>\n",
       "    </tr>\n",
       "    <tr>\n",
       "      <th>9</th>\n",
       "      <td>84501001</td>\n",
       "      <td>M</td>\n",
       "      <td>12.46</td>\n",
       "      <td>24.04</td>\n",
       "      <td>83.97</td>\n",
       "      <td>475.9</td>\n",
       "      <td>0.11860</td>\n",
       "      <td>0.23960</td>\n",
       "      <td>0.22730</td>\n",
       "      <td>0.08543</td>\n",
       "      <td>...</td>\n",
       "      <td>40.68</td>\n",
       "      <td>97.65</td>\n",
       "      <td>711.4</td>\n",
       "      <td>0.1853</td>\n",
       "      <td>1.0580</td>\n",
       "      <td>1.1050</td>\n",
       "      <td>0.2210</td>\n",
       "      <td>0.4366</td>\n",
       "      <td>0.20750</td>\n",
       "      <td>NaN</td>\n",
       "    </tr>\n",
       "  </tbody>\n",
       "</table>\n",
       "<p>10 rows × 33 columns</p>\n",
       "</div>"
      ],
      "text/plain": [
       "         id diagnosis  radius_mean  texture_mean  perimeter_mean  area_mean  \\\n",
       "0    842302         M        17.99         10.38          122.80     1001.0   \n",
       "1    842517         M        20.57         17.77          132.90     1326.0   \n",
       "2  84300903         M        19.69         21.25          130.00     1203.0   \n",
       "3  84348301         M        11.42         20.38           77.58      386.1   \n",
       "4  84358402         M        20.29         14.34          135.10     1297.0   \n",
       "5    843786         M        12.45         15.70           82.57      477.1   \n",
       "6    844359         M        18.25         19.98          119.60     1040.0   \n",
       "7  84458202         M        13.71         20.83           90.20      577.9   \n",
       "8    844981         M        13.00         21.82           87.50      519.8   \n",
       "9  84501001         M        12.46         24.04           83.97      475.9   \n",
       "\n",
       "   smoothness_mean  compactness_mean  concavity_mean  concave points_mean  \\\n",
       "0          0.11840           0.27760         0.30010              0.14710   \n",
       "1          0.08474           0.07864         0.08690              0.07017   \n",
       "2          0.10960           0.15990         0.19740              0.12790   \n",
       "3          0.14250           0.28390         0.24140              0.10520   \n",
       "4          0.10030           0.13280         0.19800              0.10430   \n",
       "5          0.12780           0.17000         0.15780              0.08089   \n",
       "6          0.09463           0.10900         0.11270              0.07400   \n",
       "7          0.11890           0.16450         0.09366              0.05985   \n",
       "8          0.12730           0.19320         0.18590              0.09353   \n",
       "9          0.11860           0.23960         0.22730              0.08543   \n",
       "\n",
       "   ...  texture_worst  perimeter_worst  area_worst  smoothness_worst  \\\n",
       "0  ...          17.33           184.60      2019.0            0.1622   \n",
       "1  ...          23.41           158.80      1956.0            0.1238   \n",
       "2  ...          25.53           152.50      1709.0            0.1444   \n",
       "3  ...          26.50            98.87       567.7            0.2098   \n",
       "4  ...          16.67           152.20      1575.0            0.1374   \n",
       "5  ...          23.75           103.40       741.6            0.1791   \n",
       "6  ...          27.66           153.20      1606.0            0.1442   \n",
       "7  ...          28.14           110.60       897.0            0.1654   \n",
       "8  ...          30.73           106.20       739.3            0.1703   \n",
       "9  ...          40.68            97.65       711.4            0.1853   \n",
       "\n",
       "   compactness_worst  concavity_worst  concave points_worst  symmetry_worst  \\\n",
       "0             0.6656           0.7119                0.2654          0.4601   \n",
       "1             0.1866           0.2416                0.1860          0.2750   \n",
       "2             0.4245           0.4504                0.2430          0.3613   \n",
       "3             0.8663           0.6869                0.2575          0.6638   \n",
       "4             0.2050           0.4000                0.1625          0.2364   \n",
       "5             0.5249           0.5355                0.1741          0.3985   \n",
       "6             0.2576           0.3784                0.1932          0.3063   \n",
       "7             0.3682           0.2678                0.1556          0.3196   \n",
       "8             0.5401           0.5390                0.2060          0.4378   \n",
       "9             1.0580           1.1050                0.2210          0.4366   \n",
       "\n",
       "   fractal_dimension_worst  Unnamed: 32  \n",
       "0                  0.11890          NaN  \n",
       "1                  0.08902          NaN  \n",
       "2                  0.08758          NaN  \n",
       "3                  0.17300          NaN  \n",
       "4                  0.07678          NaN  \n",
       "5                  0.12440          NaN  \n",
       "6                  0.08368          NaN  \n",
       "7                  0.11510          NaN  \n",
       "8                  0.10720          NaN  \n",
       "9                  0.20750          NaN  \n",
       "\n",
       "[10 rows x 33 columns]"
      ]
     },
     "execution_count": 5,
     "metadata": {},
     "output_type": "execute_result"
    }
   ],
   "source": [
    "# Reading the Dataset\n",
    "data = pd.read_csv('DATASET/data.csv')\n",
    "data.head(10)"
   ]
  },
  {
   "cell_type": "markdown",
   "id": "vaqkS2FhqYQ8",
   "metadata": {
    "_uuid": "f55092b3ec6f91a32f5c0c47e77828b42d9a55dd",
    "id": "vaqkS2FhqYQ8"
   },
   "source": [
    "**Prediction of Breast Cancer : Benign or Malignant**\n",
    "\n",
    "To Predict if the cancer diagnosis is benign or malignant based on several observations/features\n",
    "30 features are used, examples:\n",
    "\n",
    "  - radius (mean of distances from center to points on the perimeter)\n",
    "  - texture (standard deviation of gray-scale values)\n",
    "  - perimeter\n",
    "  - area\n",
    "  - smoothness (local variation in radius lengths)\n",
    "  - compactness (perimeter^2 / area - 1.0)\n",
    "  - concavity (severity of concave portions of the contour)\n",
    "  - concave points (number of concave portions of the contour)\n",
    "  - symmetry\n",
    "  - fractal dimension (\"coastline approximation\" - 1)\n",
    "Datasets are linearly separable using all 30 input features\n",
    "\n",
    "Number of Instances: 569\n",
    "Class Distribution: 212 Malignant, 357 Benign\n",
    "Target class:\n",
    "   - Malignant\n",
    "   - Benign"
   ]
  },
  {
   "cell_type": "code",
   "execution_count": 6,
   "id": "a851c39a",
   "metadata": {
    "colab": {
     "base_uri": "https://localhost:8080/"
    },
    "execution": {
     "iopub.execute_input": "2022-10-05T16:29:49.258618Z",
     "iopub.status.busy": "2022-10-05T16:29:49.257714Z",
     "iopub.status.idle": "2022-10-05T16:29:49.276560Z",
     "shell.execute_reply": "2022-10-05T16:29:49.275387Z"
    },
    "id": "a851c39a",
    "outputId": "ebc2f608-97ea-4e3b-8827-ec83aed42144",
    "papermill": {
     "duration": 0.030195,
     "end_time": "2022-10-05T16:29:49.279083",
     "exception": false,
     "start_time": "2022-10-05T16:29:49.248888",
     "status": "completed"
    },
    "tags": []
   },
   "outputs": [],
   "source": [
    "# Removing columns that will not be used\n",
    "data = data[[c for c in data.columns if (('_se' not in c) and ('_worst' not in c))]]\n",
    "data.drop('id', axis=1, inplace=True)"
   ]
  },
  {
   "cell_type": "code",
   "execution_count": 7,
   "id": "4bb24d08",
   "metadata": {
    "colab": {
     "base_uri": "https://localhost:8080/",
     "height": 244
    },
    "execution": {
     "iopub.execute_input": "2022-10-05T16:29:49.295876Z",
     "iopub.status.busy": "2022-10-05T16:29:49.295485Z",
     "iopub.status.idle": "2022-10-05T16:29:49.320100Z",
     "shell.execute_reply": "2022-10-05T16:29:49.318911Z"
    },
    "id": "4bb24d08",
    "outputId": "3b56265b-a2ab-4e4c-f7ed-ac2a834863af",
    "papermill": {
     "duration": 0.03561,
     "end_time": "2022-10-05T16:29:49.322372",
     "exception": false,
     "start_time": "2022-10-05T16:29:49.286762",
     "status": "completed"
    },
    "tags": []
   },
   "outputs": [
    {
     "data": {
      "text/html": [
       "<div>\n",
       "<style scoped>\n",
       "    .dataframe tbody tr th:only-of-type {\n",
       "        vertical-align: middle;\n",
       "    }\n",
       "\n",
       "    .dataframe tbody tr th {\n",
       "        vertical-align: top;\n",
       "    }\n",
       "\n",
       "    .dataframe thead th {\n",
       "        text-align: right;\n",
       "    }\n",
       "</style>\n",
       "<table border=\"1\" class=\"dataframe\">\n",
       "  <thead>\n",
       "    <tr style=\"text-align: right;\">\n",
       "      <th></th>\n",
       "      <th>diagnosis</th>\n",
       "      <th>radius_mean</th>\n",
       "      <th>texture_mean</th>\n",
       "      <th>perimeter_mean</th>\n",
       "      <th>area_mean</th>\n",
       "      <th>smoothness_mean</th>\n",
       "      <th>compactness_mean</th>\n",
       "      <th>concavity_mean</th>\n",
       "      <th>concave points_mean</th>\n",
       "      <th>symmetry_mean</th>\n",
       "      <th>fractal_dimension_mean</th>\n",
       "      <th>Unnamed: 32</th>\n",
       "    </tr>\n",
       "  </thead>\n",
       "  <tbody>\n",
       "    <tr>\n",
       "      <th>0</th>\n",
       "      <td>M</td>\n",
       "      <td>17.99</td>\n",
       "      <td>10.38</td>\n",
       "      <td>122.80</td>\n",
       "      <td>1001.0</td>\n",
       "      <td>0.11840</td>\n",
       "      <td>0.27760</td>\n",
       "      <td>0.3001</td>\n",
       "      <td>0.14710</td>\n",
       "      <td>0.2419</td>\n",
       "      <td>0.07871</td>\n",
       "      <td>NaN</td>\n",
       "    </tr>\n",
       "    <tr>\n",
       "      <th>1</th>\n",
       "      <td>M</td>\n",
       "      <td>20.57</td>\n",
       "      <td>17.77</td>\n",
       "      <td>132.90</td>\n",
       "      <td>1326.0</td>\n",
       "      <td>0.08474</td>\n",
       "      <td>0.07864</td>\n",
       "      <td>0.0869</td>\n",
       "      <td>0.07017</td>\n",
       "      <td>0.1812</td>\n",
       "      <td>0.05667</td>\n",
       "      <td>NaN</td>\n",
       "    </tr>\n",
       "    <tr>\n",
       "      <th>2</th>\n",
       "      <td>M</td>\n",
       "      <td>19.69</td>\n",
       "      <td>21.25</td>\n",
       "      <td>130.00</td>\n",
       "      <td>1203.0</td>\n",
       "      <td>0.10960</td>\n",
       "      <td>0.15990</td>\n",
       "      <td>0.1974</td>\n",
       "      <td>0.12790</td>\n",
       "      <td>0.2069</td>\n",
       "      <td>0.05999</td>\n",
       "      <td>NaN</td>\n",
       "    </tr>\n",
       "    <tr>\n",
       "      <th>3</th>\n",
       "      <td>M</td>\n",
       "      <td>11.42</td>\n",
       "      <td>20.38</td>\n",
       "      <td>77.58</td>\n",
       "      <td>386.1</td>\n",
       "      <td>0.14250</td>\n",
       "      <td>0.28390</td>\n",
       "      <td>0.2414</td>\n",
       "      <td>0.10520</td>\n",
       "      <td>0.2597</td>\n",
       "      <td>0.09744</td>\n",
       "      <td>NaN</td>\n",
       "    </tr>\n",
       "    <tr>\n",
       "      <th>4</th>\n",
       "      <td>M</td>\n",
       "      <td>20.29</td>\n",
       "      <td>14.34</td>\n",
       "      <td>135.10</td>\n",
       "      <td>1297.0</td>\n",
       "      <td>0.10030</td>\n",
       "      <td>0.13280</td>\n",
       "      <td>0.1980</td>\n",
       "      <td>0.10430</td>\n",
       "      <td>0.1809</td>\n",
       "      <td>0.05883</td>\n",
       "      <td>NaN</td>\n",
       "    </tr>\n",
       "  </tbody>\n",
       "</table>\n",
       "</div>"
      ],
      "text/plain": [
       "  diagnosis  radius_mean  texture_mean  perimeter_mean  area_mean  \\\n",
       "0         M        17.99         10.38          122.80     1001.0   \n",
       "1         M        20.57         17.77          132.90     1326.0   \n",
       "2         M        19.69         21.25          130.00     1203.0   \n",
       "3         M        11.42         20.38           77.58      386.1   \n",
       "4         M        20.29         14.34          135.10     1297.0   \n",
       "\n",
       "   smoothness_mean  compactness_mean  concavity_mean  concave points_mean  \\\n",
       "0          0.11840           0.27760          0.3001              0.14710   \n",
       "1          0.08474           0.07864          0.0869              0.07017   \n",
       "2          0.10960           0.15990          0.1974              0.12790   \n",
       "3          0.14250           0.28390          0.2414              0.10520   \n",
       "4          0.10030           0.13280          0.1980              0.10430   \n",
       "\n",
       "   symmetry_mean  fractal_dimension_mean  Unnamed: 32  \n",
       "0         0.2419                 0.07871          NaN  \n",
       "1         0.1812                 0.05667          NaN  \n",
       "2         0.2069                 0.05999          NaN  \n",
       "3         0.2597                 0.09744          NaN  \n",
       "4         0.1809                 0.05883          NaN  "
      ]
     },
     "execution_count": 7,
     "metadata": {},
     "output_type": "execute_result"
    }
   ],
   "source": [
    "# Displaying the first 5 rows of the dataset\n",
    "data.head()"
   ]
  },
  {
   "cell_type": "code",
   "execution_count": 8,
   "id": "3ca17479",
   "metadata": {
    "colab": {
     "base_uri": "https://localhost:8080/"
    },
    "id": "3ca17479",
    "outputId": "4e6f38f7-075e-4777-ecd1-49329be47453"
   },
   "outputs": [
    {
     "data": {
      "text/plain": [
       "(569, 12)"
      ]
     },
     "execution_count": 8,
     "metadata": {},
     "output_type": "execute_result"
    }
   ],
   "source": [
    "data.shape"
   ]
  },
  {
   "cell_type": "code",
   "execution_count": 9,
   "id": "2d2223b0",
   "metadata": {
    "colab": {
     "base_uri": "https://localhost:8080/"
    },
    "id": "2d2223b0",
    "outputId": "3fb0f242-969c-4461-cb07-be9874823f9e"
   },
   "outputs": [
    {
     "name": "stdout",
     "output_type": "stream",
     "text": [
      "<class 'pandas.core.frame.DataFrame'>\n",
      "RangeIndex: 569 entries, 0 to 568\n",
      "Data columns (total 12 columns):\n",
      " #   Column                  Non-Null Count  Dtype  \n",
      "---  ------                  --------------  -----  \n",
      " 0   diagnosis               569 non-null    object \n",
      " 1   radius_mean             569 non-null    float64\n",
      " 2   texture_mean            569 non-null    float64\n",
      " 3   perimeter_mean          569 non-null    float64\n",
      " 4   area_mean               569 non-null    float64\n",
      " 5   smoothness_mean         569 non-null    float64\n",
      " 6   compactness_mean        569 non-null    float64\n",
      " 7   concavity_mean          569 non-null    float64\n",
      " 8   concave points_mean     569 non-null    float64\n",
      " 9   symmetry_mean           569 non-null    float64\n",
      " 10  fractal_dimension_mean  569 non-null    float64\n",
      " 11  Unnamed: 32             0 non-null      float64\n",
      "dtypes: float64(11), object(1)\n",
      "memory usage: 53.5+ KB\n"
     ]
    }
   ],
   "source": [
    "data.info()"
   ]
  },
  {
   "cell_type": "code",
   "execution_count": 10,
   "id": "e480c1e1",
   "metadata": {
    "colab": {
     "base_uri": "https://localhost:8080/",
     "height": 394
    },
    "execution": {
     "iopub.execute_input": "2022-10-05T16:29:49.341073Z",
     "iopub.status.busy": "2022-10-05T16:29:49.340641Z",
     "iopub.status.idle": "2022-10-05T16:29:49.386575Z",
     "shell.execute_reply": "2022-10-05T16:29:49.385359Z"
    },
    "id": "e480c1e1",
    "outputId": "888cd12b-08bf-41ad-92a1-f00107f6057a",
    "papermill": {
     "duration": 0.057692,
     "end_time": "2022-10-05T16:29:49.389449",
     "exception": false,
     "start_time": "2022-10-05T16:29:49.331757",
     "status": "completed"
    },
    "tags": []
   },
   "outputs": [
    {
     "data": {
      "text/html": [
       "<div>\n",
       "<style scoped>\n",
       "    .dataframe tbody tr th:only-of-type {\n",
       "        vertical-align: middle;\n",
       "    }\n",
       "\n",
       "    .dataframe tbody tr th {\n",
       "        vertical-align: top;\n",
       "    }\n",
       "\n",
       "    .dataframe thead th {\n",
       "        text-align: right;\n",
       "    }\n",
       "</style>\n",
       "<table border=\"1\" class=\"dataframe\">\n",
       "  <thead>\n",
       "    <tr style=\"text-align: right;\">\n",
       "      <th></th>\n",
       "      <th>count</th>\n",
       "      <th>mean</th>\n",
       "      <th>std</th>\n",
       "      <th>min</th>\n",
       "      <th>25%</th>\n",
       "      <th>50%</th>\n",
       "      <th>75%</th>\n",
       "      <th>max</th>\n",
       "    </tr>\n",
       "  </thead>\n",
       "  <tbody>\n",
       "    <tr>\n",
       "      <th>radius_mean</th>\n",
       "      <td>569.0</td>\n",
       "      <td>14.127292</td>\n",
       "      <td>3.524049</td>\n",
       "      <td>6.98100</td>\n",
       "      <td>11.70000</td>\n",
       "      <td>13.37000</td>\n",
       "      <td>15.78000</td>\n",
       "      <td>28.11000</td>\n",
       "    </tr>\n",
       "    <tr>\n",
       "      <th>texture_mean</th>\n",
       "      <td>569.0</td>\n",
       "      <td>19.289649</td>\n",
       "      <td>4.301036</td>\n",
       "      <td>9.71000</td>\n",
       "      <td>16.17000</td>\n",
       "      <td>18.84000</td>\n",
       "      <td>21.80000</td>\n",
       "      <td>39.28000</td>\n",
       "    </tr>\n",
       "    <tr>\n",
       "      <th>perimeter_mean</th>\n",
       "      <td>569.0</td>\n",
       "      <td>91.969033</td>\n",
       "      <td>24.298981</td>\n",
       "      <td>43.79000</td>\n",
       "      <td>75.17000</td>\n",
       "      <td>86.24000</td>\n",
       "      <td>104.10000</td>\n",
       "      <td>188.50000</td>\n",
       "    </tr>\n",
       "    <tr>\n",
       "      <th>area_mean</th>\n",
       "      <td>569.0</td>\n",
       "      <td>654.889104</td>\n",
       "      <td>351.914129</td>\n",
       "      <td>143.50000</td>\n",
       "      <td>420.30000</td>\n",
       "      <td>551.10000</td>\n",
       "      <td>782.70000</td>\n",
       "      <td>2501.00000</td>\n",
       "    </tr>\n",
       "    <tr>\n",
       "      <th>smoothness_mean</th>\n",
       "      <td>569.0</td>\n",
       "      <td>0.096360</td>\n",
       "      <td>0.014064</td>\n",
       "      <td>0.05263</td>\n",
       "      <td>0.08637</td>\n",
       "      <td>0.09587</td>\n",
       "      <td>0.10530</td>\n",
       "      <td>0.16340</td>\n",
       "    </tr>\n",
       "    <tr>\n",
       "      <th>compactness_mean</th>\n",
       "      <td>569.0</td>\n",
       "      <td>0.104341</td>\n",
       "      <td>0.052813</td>\n",
       "      <td>0.01938</td>\n",
       "      <td>0.06492</td>\n",
       "      <td>0.09263</td>\n",
       "      <td>0.13040</td>\n",
       "      <td>0.34540</td>\n",
       "    </tr>\n",
       "    <tr>\n",
       "      <th>concavity_mean</th>\n",
       "      <td>569.0</td>\n",
       "      <td>0.088799</td>\n",
       "      <td>0.079720</td>\n",
       "      <td>0.00000</td>\n",
       "      <td>0.02956</td>\n",
       "      <td>0.06154</td>\n",
       "      <td>0.13070</td>\n",
       "      <td>0.42680</td>\n",
       "    </tr>\n",
       "    <tr>\n",
       "      <th>concave points_mean</th>\n",
       "      <td>569.0</td>\n",
       "      <td>0.048919</td>\n",
       "      <td>0.038803</td>\n",
       "      <td>0.00000</td>\n",
       "      <td>0.02031</td>\n",
       "      <td>0.03350</td>\n",
       "      <td>0.07400</td>\n",
       "      <td>0.20120</td>\n",
       "    </tr>\n",
       "    <tr>\n",
       "      <th>symmetry_mean</th>\n",
       "      <td>569.0</td>\n",
       "      <td>0.181162</td>\n",
       "      <td>0.027414</td>\n",
       "      <td>0.10600</td>\n",
       "      <td>0.16190</td>\n",
       "      <td>0.17920</td>\n",
       "      <td>0.19570</td>\n",
       "      <td>0.30400</td>\n",
       "    </tr>\n",
       "    <tr>\n",
       "      <th>fractal_dimension_mean</th>\n",
       "      <td>569.0</td>\n",
       "      <td>0.062798</td>\n",
       "      <td>0.007060</td>\n",
       "      <td>0.04996</td>\n",
       "      <td>0.05770</td>\n",
       "      <td>0.06154</td>\n",
       "      <td>0.06612</td>\n",
       "      <td>0.09744</td>\n",
       "    </tr>\n",
       "    <tr>\n",
       "      <th>Unnamed: 32</th>\n",
       "      <td>0.0</td>\n",
       "      <td>NaN</td>\n",
       "      <td>NaN</td>\n",
       "      <td>NaN</td>\n",
       "      <td>NaN</td>\n",
       "      <td>NaN</td>\n",
       "      <td>NaN</td>\n",
       "      <td>NaN</td>\n",
       "    </tr>\n",
       "  </tbody>\n",
       "</table>\n",
       "</div>"
      ],
      "text/plain": [
       "                        count        mean         std        min        25%  \\\n",
       "radius_mean             569.0   14.127292    3.524049    6.98100   11.70000   \n",
       "texture_mean            569.0   19.289649    4.301036    9.71000   16.17000   \n",
       "perimeter_mean          569.0   91.969033   24.298981   43.79000   75.17000   \n",
       "area_mean               569.0  654.889104  351.914129  143.50000  420.30000   \n",
       "smoothness_mean         569.0    0.096360    0.014064    0.05263    0.08637   \n",
       "compactness_mean        569.0    0.104341    0.052813    0.01938    0.06492   \n",
       "concavity_mean          569.0    0.088799    0.079720    0.00000    0.02956   \n",
       "concave points_mean     569.0    0.048919    0.038803    0.00000    0.02031   \n",
       "symmetry_mean           569.0    0.181162    0.027414    0.10600    0.16190   \n",
       "fractal_dimension_mean  569.0    0.062798    0.007060    0.04996    0.05770   \n",
       "Unnamed: 32               0.0         NaN         NaN        NaN        NaN   \n",
       "\n",
       "                              50%        75%         max  \n",
       "radius_mean              13.37000   15.78000    28.11000  \n",
       "texture_mean             18.84000   21.80000    39.28000  \n",
       "perimeter_mean           86.24000  104.10000   188.50000  \n",
       "area_mean               551.10000  782.70000  2501.00000  \n",
       "smoothness_mean           0.09587    0.10530     0.16340  \n",
       "compactness_mean          0.09263    0.13040     0.34540  \n",
       "concavity_mean            0.06154    0.13070     0.42680  \n",
       "concave points_mean       0.03350    0.07400     0.20120  \n",
       "symmetry_mean             0.17920    0.19570     0.30400  \n",
       "fractal_dimension_mean    0.06154    0.06612     0.09744  \n",
       "Unnamed: 32                   NaN        NaN         NaN  "
      ]
     },
     "execution_count": 10,
     "metadata": {},
     "output_type": "execute_result"
    }
   ],
   "source": [
    "# Displays a statistical summary of the data\n",
    "data.describe().transpose()"
   ]
  },
  {
   "cell_type": "code",
   "execution_count": 11,
   "id": "700bb92b",
   "metadata": {
    "colab": {
     "base_uri": "https://localhost:8080/"
    },
    "id": "700bb92b",
    "outputId": "84d3f635-22aa-41ca-dc4c-ffb68f333f4c"
   },
   "outputs": [
    {
     "name": "stdout",
     "output_type": "stream",
     "text": [
      "radius_mean\n",
      "texture_mean\n",
      "perimeter_mean\n",
      "area_mean\n",
      "smoothness_mean\n",
      "compactness_mean\n",
      "concavity_mean\n",
      "concave points_mean\n",
      "symmetry_mean\n",
      "fractal_dimension_mean\n",
      "Unnamed: 32\n"
     ]
    }
   ],
   "source": [
    "for col in data.iloc[:, 1:].columns:\n",
    "    print(col)"
   ]
  },
  {
   "cell_type": "code",
   "execution_count": 12,
   "id": "AGwmubJAJdKC",
   "metadata": {
    "colab": {
     "base_uri": "https://localhost:8080/"
    },
    "id": "AGwmubJAJdKC",
    "outputId": "95286d4b-a51d-451b-9ac6-370ae189bae6"
   },
   "outputs": [
    {
     "name": "stdout",
     "output_type": "stream",
     "text": [
      "Index(['diagnosis', 'radius_mean', 'texture_mean', 'perimeter_mean',\n",
      "       'area_mean', 'smoothness_mean', 'compactness_mean', 'concavity_mean',\n",
      "       'concave points_mean', 'symmetry_mean', 'fractal_dimension_mean'],\n",
      "      dtype='object')\n"
     ]
    }
   ],
   "source": [
    "# Delete the \"Unnamed: 32\" column\n",
    "data.drop(columns=[\"Unnamed: 32\"], inplace=True)\n",
    "\n",
    "# Verify that the column is deleted\n",
    "print(data.columns)"
   ]
  },
  {
   "cell_type": "code",
   "execution_count": 14,
   "id": "35f7b5c3",
   "metadata": {
    "colab": {
     "base_uri": "https://localhost:8080/",
     "height": 458
    },
    "execution": {
     "iopub.execute_input": "2022-10-05T16:29:53.643693Z",
     "iopub.status.busy": "2022-10-05T16:29:53.643273Z",
     "iopub.status.idle": "2022-10-05T16:29:53.973686Z",
     "shell.execute_reply": "2022-10-05T16:29:53.972707Z"
    },
    "id": "35f7b5c3",
    "outputId": "6205c8df-7c7c-4765-8ab1-8875cb1c550c",
    "papermill": {
     "duration": 0.347425,
     "end_time": "2022-10-05T16:29:53.975952",
     "exception": false,
     "start_time": "2022-10-05T16:29:53.628527",
     "status": "completed"
    },
    "tags": []
   },
   "outputs": [
    {
     "data": {
      "image/png": "[encoded data removed]",
      "text/plain": [
       "<Figure size 432x288 with 1 Axes>"
      ]
     },
     "metadata": {},
     "output_type": "display_data"
    }
   ],
   "source": [
    "sns.countplot(data=data, x='diagnosis');"
   ]
  },
  {
   "cell_type": "code",
   "execution_count": 15,
   "id": "4pYM0j147T1t",
   "metadata": {
    "colab": {
     "base_uri": "https://localhost:8080/",
     "height": 645
    },
    "id": "4pYM0j147T1t",
    "outputId": "cb722369-54a2-4284-bfe9-af20c7684780"
   },
   "outputs": [
    {
     "data": {
      "image/png": "[encoded data removed]",
      "text/plain": [
       "<Figure size 1296x576 with 2 Axes>"
      ]
     },
     "metadata": {},
     "output_type": "display_data"
    }
   ],
   "source": [
    "# Show data diagnosis Breast Cancer on Pie chart and Bar chart\n",
    "\n",
    "f, ax = plt.subplots(1, 2, figsize=(18, 8))\n",
    "\n",
    "data['diagnosis'].value_counts().plot.pie(explode=[0, 0.1], autopct='%1.1f%%', ax=ax[0], shadow=True)\n",
    "\n",
    "ax[0].set_title('diagnosis')\n",
    "\n",
    "ax[0].set_ylabel('')\n",
    "\n",
    "sns.countplot(x='diagnosis', data=data, ax=ax[1])\n",
    "\n",
    "ax[1].set_title('diagnosis')\n",
    "\n",
    "plt.show()"
   ]
  },
  {
   "cell_type": "code",
   "execution_count": 17,
   "id": "E_ZHwVXDqYRD",
   "metadata": {
    "_uuid": "368b8f48bc3bd6792e4e867bcb4d2953bb866e3d",
    "colab": {
     "base_uri": "https://localhost:8080/",
     "height": 475
    },
    "id": "E_ZHwVXDqYRD",
    "outputId": "a17369a7-c371-4b40-a1bb-b46c83eb56f2"
   },
   "outputs": [
    {
     "data": {
      "text/plain": [
       "<AxesSubplot:xlabel='area_mean', ylabel='smoothness_mean'>"
      ]
     },
     "execution_count": 17,
     "metadata": {},
     "output_type": "execute_result"
    },
    {
     "data": {
      "image/png": "[encoded data removed]",
      "text/plain": [
       "<Figure size 432x288 with 1 Axes>"
      ]
     },
     "metadata": {},
     "output_type": "display_data"
    }
   ],
   "source": [
    "sns.scatterplot(x = 'area_mean', y = 'smoothness_mean', hue = 'diagnosis', data = data)"
   ]
  },
  {
   "cell_type": "code",
   "execution_count": 18,
   "id": "560062a0",
   "metadata": {
    "id": "560062a0"
   },
   "outputs": [],
   "source": [
    "data_copy = data.copy()\n",
    "data_copy['diagnosis'] = data_copy['diagnosis'].map({'M': 1, 'B': 0})"
   ]
  },
  {
   "cell_type": "code",
   "execution_count": 19,
   "id": "16cdbe66",
   "metadata": {
    "colab": {
     "base_uri": "https://localhost:8080/",
     "height": 705
    },
    "execution": {
     "iopub.execute_input": "2022-10-05T16:30:25.329982Z",
     "iopub.status.busy": "2022-10-05T16:30:25.329567Z",
     "iopub.status.idle": "2022-10-05T16:30:26.351915Z",
     "shell.execute_reply": "2022-10-05T16:30:26.350937Z"
    },
    "id": "16cdbe66",
    "outputId": "c8bd6236-3714-437c-9ff3-e6446338756f",
    "papermill": {
     "duration": 1.069002,
     "end_time": "2022-10-05T16:30:26.354415",
     "exception": false,
     "start_time": "2022-10-05T16:30:25.285413",
     "status": "completed"
    },
    "tags": []
   },
   "outputs": [
    {
     "data": {
      "image/png": "[encoded data removed]",
      "text/plain": [
       "<Figure size 864x432 with 2 Axes>"
      ]
     },
     "metadata": {},
     "output_type": "display_data"
    }
   ],
   "source": [
    "# Displays a heat map based on the correlation coefficient of the variables\n",
    "corr = data_copy.corr('spearman')\n",
    "plt.figure(figsize=(12, 6))\n",
    "sns.heatmap(corr, vmin=-1, center=0, vmax=1, annot=True);"
   ]
  },
  {
   "cell_type": "markdown",
   "id": "ec751068",
   "metadata": {
    "id": "ec751068",
    "papermill": {
     "duration": 0.043069,
     "end_time": "2022-10-05T16:30:26.441087",
     "exception": false,
     "start_time": "2022-10-05T16:30:26.398018",
     "status": "completed"
    },
    "tags": []
   },
   "source": [
    "# Preprocessing"
   ]
  },
  {
   "cell_type": "markdown",
   "id": "201f3c1d",
   "metadata": {
    "id": "201f3c1d",
    "papermill": {
     "duration": 0.046944,
     "end_time": "2022-10-05T16:30:26.531061",
     "exception": false,
     "start_time": "2022-10-05T16:30:26.484117",
     "status": "completed"
    },
    "tags": []
   },
   "source": [
    "#### Splitting Data into Dependent and Independent Variables"
   ]
  },
  {
   "cell_type": "code",
   "execution_count": 20,
   "id": "cfc4f0b3",
   "metadata": {
    "execution": {
     "iopub.execute_input": "2022-10-05T16:30:26.619904Z",
     "iopub.status.busy": "2022-10-05T16:30:26.618830Z",
     "iopub.status.idle": "2022-10-05T16:30:26.625839Z",
     "shell.execute_reply": "2022-10-05T16:30:26.624785Z"
    },
    "id": "cfc4f0b3",
    "papermill": {
     "duration": 0.054596,
     "end_time": "2022-10-05T16:30:26.628638",
     "exception": false,
     "start_time": "2022-10-05T16:30:26.574042",
     "status": "completed"
    },
    "tags": []
   },
   "outputs": [],
   "source": [
    "# Independent variables (predictors)\n",
    "X = data_copy.drop('diagnosis', axis=1)\n",
    "\n",
    "# Dependent variable\n",
    "y = data_copy['diagnosis']"
   ]
  },
  {
   "cell_type": "code",
   "execution_count": 21,
   "id": "3dbea438",
   "metadata": {
    "id": "3dbea438"
   },
   "outputs": [],
   "source": [
    "from sklearn.preprocessing import StandardScaler, MinMaxScaler"
   ]
  },
  {
   "cell_type": "code",
   "execution_count": 22,
   "id": "f69b4bfb",
   "metadata": {
    "execution": {
     "iopub.execute_input": "2022-10-05T16:30:26.717610Z",
     "iopub.status.busy": "2022-10-05T16:30:26.716782Z",
     "iopub.status.idle": "2022-10-05T16:30:26.726589Z",
     "shell.execute_reply": "2022-10-05T16:30:26.725598Z"
    },
    "id": "f69b4bfb",
    "papermill": {
     "duration": 0.05732,
     "end_time": "2022-10-05T16:30:26.729375",
     "exception": false,
     "start_time": "2022-10-05T16:30:26.672055",
     "status": "completed"
    },
    "tags": []
   },
   "outputs": [],
   "source": [
    "# Data Standardization\n",
    "scaler = MinMaxScaler()\n",
    "X = scaler.fit_transform(X)"
   ]
  },
  {
   "cell_type": "code",
   "execution_count": 23,
   "id": "63abb882",
   "metadata": {
    "id": "63abb882"
   },
   "outputs": [],
   "source": [
    "from sklearn.model_selection import train_test_split"
   ]
  },
  {
   "cell_type": "code",
   "execution_count": 24,
   "id": "7bff8cec",
   "metadata": {
    "execution": {
     "iopub.execute_input": "2022-10-05T16:30:26.819397Z",
     "iopub.status.busy": "2022-10-05T16:30:26.818523Z",
     "iopub.status.idle": "2022-10-05T16:30:26.825470Z",
     "shell.execute_reply": "2022-10-05T16:30:26.824524Z"
    },
    "id": "7bff8cec",
    "papermill": {
     "duration": 0.055341,
     "end_time": "2022-10-05T16:30:26.828028",
     "exception": false,
     "start_time": "2022-10-05T16:30:26.772687",
     "status": "completed"
    },
    "tags": []
   },
   "outputs": [],
   "source": [
    "# Train Test Split\n",
    "X_train, X_test, y_train, y_test = train_test_split(X, y, test_size=0.2, random_state=123)"
   ]
  },
  {
   "cell_type": "markdown",
   "id": "299bde58",
   "metadata": {
    "id": "299bde58",
    "papermill": {
     "duration": 0.045156,
     "end_time": "2022-10-05T16:30:26.916154",
     "exception": false,
     "start_time": "2022-10-05T16:30:26.870998",
     "status": "completed"
    },
    "tags": []
   },
   "source": [
    "# Training Machine Learning Models"
   ]
  },
  {
   "cell_type": "markdown",
   "id": "bc0fe5ca",
   "metadata": {
    "id": "bc0fe5ca",
    "papermill": {
     "duration": 0.045048,
     "end_time": "2022-10-05T16:30:27.005124",
     "exception": false,
     "start_time": "2022-10-05T16:30:26.960076",
     "status": "completed"
    },
    "tags": []
   },
   "source": [
    "### Logistic Regression"
   ]
  },
  {
   "cell_type": "code",
   "execution_count": 25,
   "id": "80cacd19",
   "metadata": {
    "id": "80cacd19"
   },
   "outputs": [],
   "source": [
    "from sklearn.linear_model import LogisticRegression"
   ]
  },
  {
   "cell_type": "code",
   "execution_count": 26,
   "id": "ba32a917",
   "metadata": {
    "execution": {
     "iopub.execute_input": "2022-10-05T16:30:27.096131Z",
     "iopub.status.busy": "2022-10-05T16:30:27.095500Z",
     "iopub.status.idle": "2022-10-05T16:30:27.109054Z",
     "shell.execute_reply": "2022-10-05T16:30:27.108119Z"
    },
    "id": "ba32a917",
    "papermill": {
     "duration": 0.062073,
     "end_time": "2022-10-05T16:30:27.111547",
     "exception": false,
     "start_time": "2022-10-05T16:30:27.049474",
     "status": "completed"
    },
    "tags": []
   },
   "outputs": [],
   "source": [
    "model = LogisticRegression(random_state=123)\n",
    "model.fit(X_train, y_train)\n",
    "y_pred = model.predict(X_test)"
   ]
  },
  {
   "cell_type": "code",
   "execution_count": 27,
   "id": "90944540",
   "metadata": {
    "id": "90944540"
   },
   "outputs": [],
   "source": [
    "from sklearn.metrics import confusion_matrix, accuracy_score, precision_score, f1_score, recall_score, classification_report"
   ]
  },
  {
   "cell_type": "code",
   "execution_count": 28,
   "id": "c9e89f11",
   "metadata": {
    "colab": {
     "base_uri": "https://localhost:8080/",
     "height": 677
    },
    "execution": {
     "iopub.execute_input": "2022-10-05T16:30:27.201657Z",
     "iopub.status.busy": "2022-10-05T16:30:27.201006Z",
     "iopub.status.idle": "2022-10-05T16:30:27.499483Z",
     "shell.execute_reply": "2022-10-05T16:30:27.498209Z"
    },
    "id": "c9e89f11",
    "outputId": "7b1aab2d-2bc9-40e6-9058-44852ca2f8ea",
    "papermill": {
     "duration": 0.347454,
     "end_time": "2022-10-05T16:30:27.502185",
     "exception": false,
     "start_time": "2022-10-05T16:30:27.154731",
     "status": "completed"
    },
    "tags": []
   },
   "outputs": [
    {
     "name": "stdout",
     "output_type": "stream",
     "text": [
      "Accuracy: 0.9385964912280702\n",
      "Precision: 1.0\n",
      "F1: 0.9066666666666667\n",
      "Recall: 0.8292682926829268\n",
      "              precision    recall  f1-score   support\n",
      "\n",
      "           0       0.91      1.00      0.95        73\n",
      "           1       1.00      0.83      0.91        41\n",
      "\n",
      "    accuracy                           0.94       114\n",
      "   macro avg       0.96      0.91      0.93       114\n",
      "weighted avg       0.94      0.94      0.94       114\n",
      "\n",
      "AxesSubplot(0.125,0.125;0.62x0.755)\n"
     ]
    },
    {
     "data": {
      "image/png": "[encoded data removed]",
      "text/plain": [
       "<Figure size 432x288 with 2 Axes>"
      ]
     },
     "metadata": {},
     "output_type": "display_data"
    }
   ],
   "source": [
    "print('Accuracy:',accuracy_score(y_test, y_pred))\n",
    "print('Precision:',precision_score(y_test, y_pred))\n",
    "print('F1:',f1_score(y_test, y_pred))\n",
    "print('Recall:',recall_score(y_test, y_pred))\n",
    "print(classification_report(y_test, y_pred))\n",
    "print(sns.heatmap(confusion_matrix(y_test, y_pred), annot=True))"
   ]
  },
  {
   "cell_type": "code",
   "execution_count": 29,
   "id": "GYiZ9t4EOooc",
   "metadata": {
    "id": "GYiZ9t4EOooc"
   },
   "outputs": [],
   "source": [
    "\n",
    "from sklearn.metrics import accuracy_score, precision_score, recall_score, f1_score, confusion_matrix\n",
    "\n",
    "# Evaluting the model\n",
    "acc = accuracy_score(y_test, y_pred)\n",
    "pre = precision_score(y_test, y_pred)\n",
    "rec = recall_score(y_test, y_pred)\n",
    "f1 = f1_score(y_test, y_pred)\n"
   ]
  },
  {
   "cell_type": "code",
   "execution_count": 30,
   "id": "MoXscclgOrSG",
   "metadata": {
    "colab": {
     "base_uri": "https://localhost:8080/",
     "height": 89
    },
    "id": "MoXscclgOrSG",
    "outputId": "51c46da8-f3b1-4a92-e632-d9ffdc41155c"
   },
   "outputs": [
    {
     "data": {
      "text/html": [
       "<div>\n",
       "<style scoped>\n",
       "    .dataframe tbody tr th:only-of-type {\n",
       "        vertical-align: middle;\n",
       "    }\n",
       "\n",
       "    .dataframe tbody tr th {\n",
       "        vertical-align: top;\n",
       "    }\n",
       "\n",
       "    .dataframe thead th {\n",
       "        text-align: right;\n",
       "    }\n",
       "</style>\n",
       "<table border=\"1\" class=\"dataframe\">\n",
       "  <thead>\n",
       "    <tr style=\"text-align: right;\">\n",
       "      <th></th>\n",
       "      <th>Model</th>\n",
       "      <th>Accuracy</th>\n",
       "      <th>Precision</th>\n",
       "      <th>Recall</th>\n",
       "      <th>F1 Score</th>\n",
       "    </tr>\n",
       "  </thead>\n",
       "  <tbody>\n",
       "    <tr>\n",
       "      <th>0</th>\n",
       "      <td>Logistic Regression</td>\n",
       "      <td>0.938596</td>\n",
       "      <td>1.0</td>\n",
       "      <td>0.829268</td>\n",
       "      <td>0.906667</td>\n",
       "    </tr>\n",
       "  </tbody>\n",
       "</table>\n",
       "</div>"
      ],
      "text/plain": [
       "                 Model  Accuracy  Precision    Recall  F1 Score\n",
       "0  Logistic Regression  0.938596        1.0  0.829268  0.906667"
      ]
     },
     "execution_count": 30,
     "metadata": {},
     "output_type": "execute_result"
    }
   ],
   "source": [
    "# Storing evaluation metrics to a dataframe\n",
    "results = pd.DataFrame([['Logistic Regression', acc, pre, rec, f1]],\n",
    "                       columns = ['Model', 'Accuracy', 'Precision', 'Recall', 'F1 Score'])\n",
    "\n",
    "results"
   ]
  },
  {
   "cell_type": "markdown",
   "id": "a8f7b75b",
   "metadata": {
    "id": "a8f7b75b",
    "papermill": {
     "duration": 0.043184,
     "end_time": "2022-10-05T16:30:27.589772",
     "exception": false,
     "start_time": "2022-10-05T16:30:27.546588",
     "status": "completed"
    },
    "tags": []
   },
   "source": [
    "### Decision Tree Classifier"
   ]
  },
  {
   "cell_type": "code",
   "execution_count": 31,
   "id": "5c6fedad",
   "metadata": {
    "id": "5c6fedad"
   },
   "outputs": [],
   "source": [
    "from sklearn.tree import DecisionTreeClassifier"
   ]
  },
  {
   "cell_type": "code",
   "execution_count": 32,
   "id": "dbecb8da",
   "metadata": {
    "execution": {
     "iopub.execute_input": "2022-10-05T16:30:27.678884Z",
     "iopub.status.busy": "2022-10-05T16:30:27.678491Z",
     "iopub.status.idle": "2022-10-05T16:30:27.689773Z",
     "shell.execute_reply": "2022-10-05T16:30:27.688359Z"
    },
    "id": "dbecb8da",
    "papermill": {
     "duration": 0.059112,
     "end_time": "2022-10-05T16:30:27.692388",
     "exception": false,
     "start_time": "2022-10-05T16:30:27.633276",
     "status": "completed"
    },
    "tags": []
   },
   "outputs": [],
   "source": [
    "model = DecisionTreeClassifier(criterion='entropy',class_weight='balanced',random_state=123)\n",
    "model.fit(X_train, y_train)\n",
    "y_pred = model.predict(X_test)"
   ]
  },
  {
   "cell_type": "code",
   "execution_count": 33,
   "id": "abc37755",
   "metadata": {
    "colab": {
     "base_uri": "https://localhost:8080/",
     "height": 677
    },
    "execution": {
     "iopub.execute_input": "2022-10-05T16:30:27.781566Z",
     "iopub.status.busy": "2022-10-05T16:30:27.781145Z",
     "iopub.status.idle": "2022-10-05T16:30:28.064782Z",
     "shell.execute_reply": "2022-10-05T16:30:28.063487Z"
    },
    "id": "abc37755",
    "outputId": "810b300c-85ab-4ee7-c565-42de0cf8a35f",
    "papermill": {
     "duration": 0.33168,
     "end_time": "2022-10-05T16:30:28.067437",
     "exception": false,
     "start_time": "2022-10-05T16:30:27.735757",
     "status": "completed"
    },
    "tags": []
   },
   "outputs": [
    {
     "name": "stdout",
     "output_type": "stream",
     "text": [
      "Accuracy: 0.9210526315789473\n",
      "Precision: 0.9\n",
      "F1: 0.888888888888889\n",
      "Recall: 0.8780487804878049\n",
      "              precision    recall  f1-score   support\n",
      "\n",
      "           0       0.93      0.95      0.94        73\n",
      "           1       0.90      0.88      0.89        41\n",
      "\n",
      "    accuracy                           0.92       114\n",
      "   macro avg       0.92      0.91      0.91       114\n",
      "weighted avg       0.92      0.92      0.92       114\n",
      "\n",
      "AxesSubplot(0.125,0.125;0.62x0.755)\n"
     ]
    },
    {
     "data": {
      "image/png": "[encoded data removed]",
      "text/plain": [
       "<Figure size 432x288 with 2 Axes>"
      ]
     },
     "metadata": {},
     "output_type": "display_data"
    }
   ],
   "source": [
    "print('Accuracy:',accuracy_score(y_test, y_pred))\n",
    "print('Precision:',precision_score(y_test, y_pred))\n",
    "print('F1:',f1_score(y_test, y_pred))\n",
    "print('Recall:',recall_score(y_test, y_pred))\n",
    "print(classification_report(y_test, y_pred))\n",
    "print(sns.heatmap(confusion_matrix(y_test, y_pred), annot=True))"
   ]
  },
  {
   "cell_type": "code",
   "execution_count": 34,
   "id": "_dEuJnKkO8i0",
   "metadata": {
    "id": "_dEuJnKkO8i0"
   },
   "outputs": [],
   "source": [
    "\n",
    "# Evaluting the model\n",
    "acc = accuracy_score(y_test, y_pred)\n",
    "pre = precision_score(y_test, y_pred)\n",
    "rec = recall_score(y_test, y_pred)\n",
    "f1 = f1_score(y_test, y_pred)\n"
   ]
  },
  {
   "cell_type": "code",
   "execution_count": 35,
   "id": "PaATAOuVPAJe",
   "metadata": {
    "colab": {
     "base_uri": "https://localhost:8080/",
     "height": 89
    },
    "id": "PaATAOuVPAJe",
    "outputId": "8acbbcd2-6045-4e1b-e682-f281026f36f1"
   },
   "outputs": [
    {
     "data": {
      "text/html": [
       "<div>\n",
       "<style scoped>\n",
       "    .dataframe tbody tr th:only-of-type {\n",
       "        vertical-align: middle;\n",
       "    }\n",
       "\n",
       "    .dataframe tbody tr th {\n",
       "        vertical-align: top;\n",
       "    }\n",
       "\n",
       "    .dataframe thead th {\n",
       "        text-align: right;\n",
       "    }\n",
       "</style>\n",
       "<table border=\"1\" class=\"dataframe\">\n",
       "  <thead>\n",
       "    <tr style=\"text-align: right;\">\n",
       "      <th></th>\n",
       "      <th>Model</th>\n",
       "      <th>Accuracy</th>\n",
       "      <th>Precision</th>\n",
       "      <th>Recall</th>\n",
       "      <th>F1 Score</th>\n",
       "    </tr>\n",
       "  </thead>\n",
       "  <tbody>\n",
       "    <tr>\n",
       "      <th>0</th>\n",
       "      <td>DecisionTreeClassifier</td>\n",
       "      <td>0.921053</td>\n",
       "      <td>0.9</td>\n",
       "      <td>0.878049</td>\n",
       "      <td>0.888889</td>\n",
       "    </tr>\n",
       "  </tbody>\n",
       "</table>\n",
       "</div>"
      ],
      "text/plain": [
       "                    Model  Accuracy  Precision    Recall  F1 Score\n",
       "0  DecisionTreeClassifier  0.921053        0.9  0.878049  0.888889"
      ]
     },
     "execution_count": 35,
     "metadata": {},
     "output_type": "execute_result"
    }
   ],
   "source": [
    "# Storing evaluation metrics to a dataframe\n",
    "results = pd.DataFrame([['DecisionTreeClassifier', acc, pre, rec, f1]],\n",
    "                       columns = ['Model', 'Accuracy', 'Precision', 'Recall', 'F1 Score'])\n",
    "\n",
    "results"
   ]
  },
  {
   "cell_type": "markdown",
   "id": "Fsa6XuNEsnZW",
   "metadata": {
    "id": "Fsa6XuNEsnZW"
   },
   "source": [
    "**Hyperparameter tuning with grid search**"
   ]
  },
  {
   "cell_type": "code",
   "execution_count": 36,
   "id": "_XgGRYpGsqe5",
   "metadata": {
    "id": "_XgGRYpGsqe5"
   },
   "outputs": [],
   "source": [
    "from sklearn.model_selection import GridSearchCV"
   ]
  },
  {
   "cell_type": "code",
   "execution_count": 37,
   "id": "6R1j5Mrksukp",
   "metadata": {
    "id": "6R1j5Mrksukp"
   },
   "outputs": [],
   "source": [
    "dt = DecisionTreeClassifier(random_state = 42)"
   ]
  },
  {
   "cell_type": "code",
   "execution_count": 38,
   "id": "gsQbhd4Bsw0l",
   "metadata": {
    "id": "gsQbhd4Bsw0l"
   },
   "outputs": [],
   "source": [
    "parameters = {\"max_depth\":[1, 2, 3, 4, 5, 7, 10],\n",
    "              \"min_samples_leaf\": [1, 3, 6, 10, 20]}"
   ]
  },
  {
   "cell_type": "code",
   "execution_count": 39,
   "id": "vyPkrAQjszvB",
   "metadata": {
    "id": "vyPkrAQjszvB"
   },
   "outputs": [],
   "source": [
    "clf = GridSearchCV(dt, parameters, n_jobs= 1)"
   ]
  },
  {
   "cell_type": "code",
   "execution_count": 40,
   "id": "an5GkT_us2F_",
   "metadata": {
    "colab": {
     "base_uri": "https://localhost:8080/",
     "height": 118
    },
    "id": "an5GkT_us2F_",
    "outputId": "f068af9d-cd02-40cd-9fbf-9cf224fef259"
   },
   "outputs": [
    {
     "data": {
      "text/html": [
       "<style>#sk-container-id-1 {color: black;}#sk-container-id-1 pre{padding: 0;}#sk-container-id-1 div.sk-toggleable {background-color: white;}#sk-container-id-1 label.sk-toggleable__label {cursor: pointer;display: block;width: 100%;margin-bottom: 0;padding: 0.3em;box-sizing: border-box;text-align: center;}#sk-container-id-1 label.sk-toggleable__label-arrow:before {content: \"▸\";float: left;margin-right: 0.25em;color: #696969;}#sk-container-id-1 label.sk-toggleable__label-arrow:hover:before {color: black;}#sk-container-id-1 div.sk-estimator:hover label.sk-toggleable__label-arrow:before {color: black;}#sk-container-id-1 div.sk-toggleable__content {max-height: 0;max-width: 0;overflow: hidden;text-align: left;background-color: #f0f8ff;}#sk-container-id-1 div.sk-toggleable__content pre {margin: 0.2em;color: black;border-radius: 0.25em;background-color: #f0f8ff;}#sk-container-id-1 input.sk-toggleable__control:checked~div.sk-toggleable__content {max-height: 200px;max-width: 100%;overflow: auto;}#sk-container-id-1 input.sk-toggleable__control:checked~label.sk-toggleable__label-arrow:before {content: \"▾\";}#sk-container-id-1 div.sk-estimator input.sk-toggleable__control:checked~label.sk-toggleable__label {background-color: #d4ebff;}#sk-container-id-1 div.sk-label input.sk-toggleable__control:checked~label.sk-toggleable__label {background-color: #d4ebff;}#sk-container-id-1 input.sk-hidden--visually {border: 0;clip: rect(1px 1px 1px 1px);clip: rect(1px, 1px, 1px, 1px);height: 1px;margin: -1px;overflow: hidden;padding: 0;position: absolute;width: 1px;}#sk-container-id-1 div.sk-estimator {font-family: monospace;background-color: #f0f8ff;border: 1px dotted black;border-radius: 0.25em;box-sizing: border-box;margin-bottom: 0.5em;}#sk-container-id-1 div.sk-estimator:hover {background-color: #d4ebff;}#sk-container-id-1 div.sk-parallel-item::after {content: \"\";width: 100%;border-bottom: 1px solid gray;flex-grow: 1;}#sk-container-id-1 div.sk-label:hover label.sk-toggleable__label {background-color: #d4ebff;}#sk-container-id-1 div.sk-serial::before {content: \"\";position: absolute;border-left: 1px solid gray;box-sizing: border-box;top: 0;bottom: 0;left: 50%;z-index: 0;}#sk-container-id-1 div.sk-serial {display: flex;flex-direction: column;align-items: center;background-color: white;padding-right: 0.2em;padding-left: 0.2em;position: relative;}#sk-container-id-1 div.sk-item {position: relative;z-index: 1;}#sk-container-id-1 div.sk-parallel {display: flex;align-items: stretch;justify-content: center;background-color: white;position: relative;}#sk-container-id-1 div.sk-item::before, #sk-container-id-1 div.sk-parallel-item::before {content: \"\";position: absolute;border-left: 1px solid gray;box-sizing: border-box;top: 0;bottom: 0;left: 50%;z-index: -1;}#sk-container-id-1 div.sk-parallel-item {display: flex;flex-direction: column;z-index: 1;position: relative;background-color: white;}#sk-container-id-1 div.sk-parallel-item:first-child::after {align-self: flex-end;width: 50%;}#sk-container-id-1 div.sk-parallel-item:last-child::after {align-self: flex-start;width: 50%;}#sk-container-id-1 div.sk-parallel-item:only-child::after {width: 0;}#sk-container-id-1 div.sk-dashed-wrapped {border: 1px dashed gray;margin: 0 0.4em 0.5em 0.4em;box-sizing: border-box;padding-bottom: 0.4em;background-color: white;}#sk-container-id-1 div.sk-label label {font-family: monospace;font-weight: bold;display: inline-block;line-height: 1.2em;}#sk-container-id-1 div.sk-label-container {text-align: center;}#sk-container-id-1 div.sk-container {/* jupyter's `normalize.less` sets `[hidden] { display: none; }` but bootstrap.min.css set `[hidden] { display: none !important; }` so we also need the `!important` here to be able to override the default hidden behavior on the sphinx rendered scikit-learn.org. See: https://github.com/scikit-learn/scikit-learn/issues/21755 */display: inline-block !important;position: relative;}#sk-container-id-1 div.sk-text-repr-fallback {display: none;}</style><div id=\"sk-container-id-1\" class=\"sk-top-container\"><div class=\"sk-text-repr-fallback\"><pre>GridSearchCV(estimator=DecisionTreeClassifier(random_state=42), n_jobs=1,\n",
       "             param_grid={&#x27;max_depth&#x27;: [1, 2, 3, 4, 5, 7, 10],\n",
       "                         &#x27;min_samples_leaf&#x27;: [1, 3, 6, 10, 20]})</pre><b>In a Jupyter environment, please rerun this cell to show the HTML representation or trust the notebook. <br />On GitHub, the HTML representation is unable to render, please try loading this page with nbviewer.org.</b></div><div class=\"sk-container\" hidden><div class=\"sk-item sk-dashed-wrapped\"><div class=\"sk-label-container\"><div class=\"sk-label sk-toggleable\"><input class=\"sk-toggleable__control sk-hidden--visually\" id=\"sk-estimator-id-1\" type=\"checkbox\" ><label for=\"sk-estimator-id-1\" class=\"sk-toggleable__label sk-toggleable__label-arrow\">GridSearchCV</label><div class=\"sk-toggleable__content\"><pre>GridSearchCV(estimator=DecisionTreeClassifier(random_state=42), n_jobs=1,\n",
       "             param_grid={&#x27;max_depth&#x27;: [1, 2, 3, 4, 5, 7, 10],\n",
       "                         &#x27;min_samples_leaf&#x27;: [1, 3, 6, 10, 20]})</pre></div></div></div><div class=\"sk-parallel\"><div class=\"sk-parallel-item\"><div class=\"sk-item\"><div class=\"sk-label-container\"><div class=\"sk-label sk-toggleable\"><input class=\"sk-toggleable__control sk-hidden--visually\" id=\"sk-estimator-id-2\" type=\"checkbox\" ><label for=\"sk-estimator-id-2\" class=\"sk-toggleable__label sk-toggleable__label-arrow\">estimator: DecisionTreeClassifier</label><div class=\"sk-toggleable__content\"><pre>DecisionTreeClassifier(random_state=42)</pre></div></div></div><div class=\"sk-serial\"><div class=\"sk-item\"><div class=\"sk-estimator sk-toggleable\"><input class=\"sk-toggleable__control sk-hidden--visually\" id=\"sk-estimator-id-3\" type=\"checkbox\" ><label for=\"sk-estimator-id-3\" class=\"sk-toggleable__label sk-toggleable__label-arrow\">DecisionTreeClassifier</label><div class=\"sk-toggleable__content\"><pre>DecisionTreeClassifier(random_state=42)</pre></div></div></div></div></div></div></div></div></div></div>"
      ],
      "text/plain": [
       "GridSearchCV(estimator=DecisionTreeClassifier(random_state=42), n_jobs=1,\n",
       "             param_grid={'max_depth': [1, 2, 3, 4, 5, 7, 10],\n",
       "                         'min_samples_leaf': [1, 3, 6, 10, 20]})"
      ]
     },
     "execution_count": 40,
     "metadata": {},
     "output_type": "execute_result"
    }
   ],
   "source": [
    "clf.fit(X_train, y_train)"
   ]
  },
  {
   "cell_type": "code",
   "execution_count": 41,
   "id": "FN_V6Jvas6pG",
   "metadata": {
    "colab": {
     "base_uri": "https://localhost:8080/"
    },
    "id": "FN_V6Jvas6pG",
    "outputId": "ff1ca922-f2bc-4289-fb3f-f4150332fc94"
   },
   "outputs": [
    {
     "name": "stdout",
     "output_type": "stream",
     "text": [
      "{'max_depth': 3, 'min_samples_leaf': 1}\n"
     ]
    }
   ],
   "source": [
    "print(clf.best_params_)"
   ]
  },
  {
   "cell_type": "code",
   "execution_count": 42,
   "id": "R9x0SCvVPhKm",
   "metadata": {
    "colab": {
     "base_uri": "https://localhost:8080/"
    },
    "id": "R9x0SCvVPhKm",
    "outputId": "6a1aa9a7-b4d3-4aed-8002-659726a9b6da"
   },
   "outputs": [
    {
     "name": "stdout",
     "output_type": "stream",
     "text": [
      "<bound method BaseSearchCV.score of GridSearchCV(estimator=DecisionTreeClassifier(random_state=42), n_jobs=1,\n",
      "             param_grid={'max_depth': [1, 2, 3, 4, 5, 7, 10],\n",
      "                         'min_samples_leaf': [1, 3, 6, 10, 20]})>\n"
     ]
    }
   ],
   "source": [
    "print(clf.score)"
   ]
  },
  {
   "cell_type": "code",
   "execution_count": 43,
   "id": "Ylr7CRzhP24N",
   "metadata": {
    "id": "Ylr7CRzhP24N"
   },
   "outputs": [],
   "source": [
    "best_score = clf.best_score_"
   ]
  },
  {
   "cell_type": "code",
   "execution_count": 44,
   "id": "3cq0LBu1P3Sb",
   "metadata": {
    "colab": {
     "base_uri": "https://localhost:8080/"
    },
    "id": "3cq0LBu1P3Sb",
    "outputId": "a5ceb8c7-3d4b-4f70-ee4c-3e756d844a8e"
   },
   "outputs": [
    {
     "name": "stdout",
     "output_type": "stream",
     "text": [
      "Best score: 0.9318681318681319\n"
     ]
    }
   ],
   "source": [
    "print(f\"Best score: {best_score}\")"
   ]
  },
  {
   "cell_type": "code",
   "execution_count": 45,
   "id": "nEqF1pFjP4Mc",
   "metadata": {
    "colab": {
     "base_uri": "https://localhost:8080/"
    },
    "id": "nEqF1pFjP4Mc",
    "outputId": "4567d020-8520-4e66-bf9c-9c838827550a"
   },
   "outputs": [
    {
     "name": "stdout",
     "output_type": "stream",
     "text": [
      "Best score: 0.9318681318681319\n"
     ]
    }
   ],
   "source": [
    "from sklearn.model_selection import GridSearchCV\n",
    "\n",
    "# Assuming you have already performed grid search and stored the results in `clf`\n",
    "\n",
    "best_score = clf.best_score_\n",
    "print(f\"Best score: {best_score}\")"
   ]
  },
  {
   "cell_type": "code",
   "execution_count": 46,
   "id": "o2kq5T1gQH-t",
   "metadata": {
    "colab": {
     "base_uri": "https://localhost:8080/"
    },
    "id": "o2kq5T1gQH-t",
    "outputId": "0c5e0f0e-4e5e-4de7-b5cd-5aaba1a9e6e5"
   },
   "outputs": [
    {
     "data": {
      "text/plain": [
       "0.9318681318681319"
      ]
     },
     "execution_count": 46,
     "metadata": {},
     "output_type": "execute_result"
    }
   ],
   "source": [
    "best_score"
   ]
  },
  {
   "cell_type": "code",
   "execution_count": 47,
   "id": "XKeeaUccRJwE",
   "metadata": {
    "colab": {
     "base_uri": "https://localhost:8080/"
    },
    "id": "XKeeaUccRJwE",
    "outputId": "ce6f7753-703d-41f1-9522-6825607d74c2",
    "scrolled": true
   },
   "outputs": [
    {
     "name": "stdout",
     "output_type": "stream",
     "text": [
      "|--- feature_7 <= 0.24\n",
      "|   |--- feature_3 <= 0.23\n",
      "|   |   |--- feature_1 <= 0.40\n",
      "|   |   |   |--- class: 0\n",
      "|   |   |--- feature_1 >  0.40\n",
      "|   |   |   |--- feature_7 <= 0.22\n",
      "|   |   |   |   |--- feature_1 <= 0.40\n",
      "|   |   |   |   |   |--- class: 1\n",
      "|   |   |   |   |--- feature_1 >  0.40\n",
      "|   |   |   |   |   |--- feature_4 <= 0.34\n",
      "|   |   |   |   |   |   |--- class: 0\n",
      "|   |   |   |   |   |--- feature_4 >  0.34\n",
      "|   |   |   |   |   |   |--- feature_4 <= 0.35\n",
      "|   |   |   |   |   |   |   |--- class: 1\n",
      "|   |   |   |   |   |   |--- feature_4 >  0.35\n",
      "|   |   |   |   |   |   |   |--- feature_2 <= 0.30\n",
      "|   |   |   |   |   |   |   |   |--- class: 0\n",
      "|   |   |   |   |   |   |   |--- feature_2 >  0.30\n",
      "|   |   |   |   |   |   |   |   |--- feature_9 <= 0.24\n",
      "|   |   |   |   |   |   |   |   |   |--- class: 1\n",
      "|   |   |   |   |   |   |   |   |--- feature_9 >  0.24\n",
      "|   |   |   |   |   |   |   |   |   |--- class: 0\n",
      "|   |   |   |--- feature_7 >  0.22\n",
      "|   |   |   |   |--- feature_4 <= 0.55\n",
      "|   |   |   |   |   |--- class: 1\n",
      "|   |   |   |   |--- feature_4 >  0.55\n",
      "|   |   |   |   |   |--- class: 0\n",
      "|   |--- feature_3 >  0.23\n",
      "|   |   |--- feature_1 <= 0.30\n",
      "|   |   |   |--- class: 0\n",
      "|   |   |--- feature_1 >  0.30\n",
      "|   |   |   |--- feature_4 <= 0.20\n",
      "|   |   |   |   |--- class: 0\n",
      "|   |   |   |--- feature_4 >  0.20\n",
      "|   |   |   |   |--- class: 1\n",
      "|--- feature_7 >  0.24\n",
      "|   |--- feature_1 <= 0.23\n",
      "|   |   |--- feature_7 <= 0.45\n",
      "|   |   |   |--- feature_3 <= 0.27\n",
      "|   |   |   |   |--- feature_7 <= 0.26\n",
      "|   |   |   |   |   |--- class: 1\n",
      "|   |   |   |   |--- feature_7 >  0.26\n",
      "|   |   |   |   |   |--- class: 0\n",
      "|   |   |   |--- feature_3 >  0.27\n",
      "|   |   |   |   |--- class: 1\n",
      "|   |   |--- feature_7 >  0.45\n",
      "|   |   |   |--- class: 1\n",
      "|   |--- feature_1 >  0.23\n",
      "|   |   |--- feature_6 <= 0.16\n",
      "|   |   |   |--- class: 0\n",
      "|   |   |--- feature_6 >  0.16\n",
      "|   |   |   |--- feature_0 <= 0.29\n",
      "|   |   |   |   |--- feature_4 <= 0.47\n",
      "|   |   |   |   |   |--- class: 0\n",
      "|   |   |   |   |--- feature_4 >  0.47\n",
      "|   |   |   |   |   |--- class: 1\n",
      "|   |   |   |--- feature_0 >  0.29\n",
      "|   |   |   |   |--- feature_4 <= 0.24\n",
      "|   |   |   |   |   |--- feature_8 <= 0.34\n",
      "|   |   |   |   |   |   |--- class: 0\n",
      "|   |   |   |   |   |--- feature_8 >  0.34\n",
      "|   |   |   |   |   |   |--- class: 1\n",
      "|   |   |   |   |--- feature_4 >  0.24\n",
      "|   |   |   |   |   |--- feature_4 <= 0.32\n",
      "|   |   |   |   |   |   |--- feature_5 <= 0.42\n",
      "|   |   |   |   |   |   |   |--- class: 1\n",
      "|   |   |   |   |   |   |--- feature_5 >  0.42\n",
      "|   |   |   |   |   |   |   |--- class: 0\n",
      "|   |   |   |   |   |--- feature_4 >  0.32\n",
      "|   |   |   |   |   |   |--- class: 1\n",
      "\n"
     ]
    }
   ],
   "source": [
    "from sklearn import tree\n",
    "\n",
    "# Define the tree structure\n",
    "clf = tree.DecisionTreeClassifier()\n",
    "\n",
    "# Train the tree on some data\n",
    "clf.fit(X_train, y_train)\n",
    "\n",
    "# Get the tree structure as a string\n",
    "tree_str = tree.export_text(clf)\n",
    "\n",
    "# Print the tree structure\n",
    "print(tree_str)"
   ]
  },
  {
   "cell_type": "code",
   "execution_count": 48,
   "id": "W84GIicZRsla",
   "metadata": {
    "id": "W84GIicZRsla"
   },
   "outputs": [],
   "source": [
    "from sklearn.tree import plot_tree"
   ]
  },
  {
   "cell_type": "code",
   "execution_count": 49,
   "id": "6DJXlYnpSIhA",
   "metadata": {
    "id": "6DJXlYnpSIhA"
   },
   "outputs": [],
   "source": [
    "import pandas as pd\n",
    "\n",
    "# Convert X to a DataFrame if it's not already\n",
    "if not isinstance(X, pd.DataFrame):\n",
    "    X = pd.DataFrame(X)"
   ]
  },
  {
   "cell_type": "code",
   "execution_count": 50,
   "id": "6olkzNHcSJAc",
   "metadata": {
    "colab": {
     "base_uri": "https://localhost:8080/",
     "height": 653
    },
    "id": "6olkzNHcSJAc",
    "outputId": "09e114fd-5593-4c15-f6e6-57cac1951339"
   },
   "outputs": [
    {
     "data": {
      "image/png": "[encoded data removed]",
      "text/plain": [
       "<Figure size 864x576 with 1 Axes>"
      ]
     },
     "metadata": {},
     "output_type": "display_data"
    }
   ],
   "source": [
    "# Visualiser l'arbre de décision\n",
    "import matplotlib.pyplot as plt\n",
    "plt.figure(figsize=(12, 8))\n",
    "plot_tree(clf, filled=True, feature_names=X.columns)\n",
    "plt.show()"
   ]
  },
  {
   "cell_type": "markdown",
   "id": "ff7ac3da",
   "metadata": {
    "id": "ff7ac3da",
    "papermill": {
     "duration": 0.043346,
     "end_time": "2022-10-05T16:30:28.156483",
     "exception": false,
     "start_time": "2022-10-05T16:30:28.113137",
     "status": "completed"
    },
    "tags": []
   },
   "source": [
    "### KNN"
   ]
  },
  {
   "cell_type": "markdown",
   "id": "YcezfyrT85Ud",
   "metadata": {
    "id": "YcezfyrT85Ud"
   },
   "source": [
    "**K Nearest Neighbour(KNN)**\n",
    "is a Supervised Machine Learning Technique that assumes the similarity between the new data and available data and puts the new data into the category closest to the available categories.\n"
   ]
  },
  {
   "cell_type": "code",
   "execution_count": 51,
   "id": "d8628ef0",
   "metadata": {
    "id": "d8628ef0"
   },
   "outputs": [],
   "source": [
    "from sklearn.neighbors import KNeighborsClassifier"
   ]
  },
  {
   "cell_type": "code",
   "execution_count": 52,
   "id": "248da95c",
   "metadata": {
    "execution": {
     "iopub.execute_input": "2022-10-05T16:30:28.246948Z",
     "iopub.status.busy": "2022-10-05T16:30:28.246536Z",
     "iopub.status.idle": "2022-10-05T16:30:28.262488Z",
     "shell.execute_reply": "2022-10-05T16:30:28.260968Z"
    },
    "id": "248da95c",
    "papermill": {
     "duration": 0.064777,
     "end_time": "2022-10-05T16:30:28.265526",
     "exception": false,
     "start_time": "2022-10-05T16:30:28.200749",
     "status": "completed"
    },
    "tags": []
   },
   "outputs": [],
   "source": [
    "from sklearn.metrics import classification_report, confusion_matrix\n",
    "clf = KNeighborsClassifier(n_neighbors=12)"
   ]
  },
  {
   "cell_type": "code",
   "execution_count": 53,
   "id": "BExTtsv9KYiO",
   "metadata": {
    "id": "BExTtsv9KYiO"
   },
   "outputs": [],
   "source": [
    "model.fit(X_train, y_train)\n",
    "y_pred = model.predict(X_test)\n"
   ]
  },
  {
   "cell_type": "code",
   "execution_count": 54,
   "id": "ccb3aed2",
   "metadata": {
    "colab": {
     "base_uri": "https://localhost:8080/",
     "height": 677
    },
    "execution": {
     "iopub.execute_input": "2022-10-05T16:30:28.355667Z",
     "iopub.status.busy": "2022-10-05T16:30:28.355221Z",
     "iopub.status.idle": "2022-10-05T16:30:28.644083Z",
     "shell.execute_reply": "2022-10-05T16:30:28.642808Z"
    },
    "id": "ccb3aed2",
    "outputId": "7d10a059-6d7d-4244-b515-71860fe11a39",
    "papermill": {
     "duration": 0.33732,
     "end_time": "2022-10-05T16:30:28.646899",
     "exception": false,
     "start_time": "2022-10-05T16:30:28.309579",
     "status": "completed"
    },
    "tags": []
   },
   "outputs": [
    {
     "name": "stdout",
     "output_type": "stream",
     "text": [
      "Accuracy: 0.9210526315789473\n",
      "Precision: 0.9\n",
      "F1: 0.888888888888889\n",
      "Recall: 0.8780487804878049\n",
      "              precision    recall  f1-score   support\n",
      "\n",
      "           0       0.93      0.95      0.94        73\n",
      "           1       0.90      0.88      0.89        41\n",
      "\n",
      "    accuracy                           0.92       114\n",
      "   macro avg       0.92      0.91      0.91       114\n",
      "weighted avg       0.92      0.92      0.92       114\n",
      "\n",
      "AxesSubplot(0.125,0.125;0.62x0.755)\n"
     ]
    },
    {
     "data": {
      "image/png": "[encoded data removed]",
      "text/plain": [
       "<Figure size 432x288 with 2 Axes>"
      ]
     },
     "metadata": {},
     "output_type": "display_data"
    }
   ],
   "source": [
    "print('Accuracy:',accuracy_score(y_test, y_pred))\n",
    "print('Precision:',precision_score(y_test, y_pred))\n",
    "print('F1:',f1_score(y_test, y_pred))\n",
    "print('Recall:',recall_score(y_test, y_pred))\n",
    "print(classification_report(y_test, y_pred))\n",
    "print(sns.heatmap(confusion_matrix(y_test, y_pred), annot=True))"
   ]
  },
  {
   "cell_type": "code",
   "execution_count": 55,
   "id": "SP1iZkxSLnLn",
   "metadata": {
    "id": "SP1iZkxSLnLn"
   },
   "outputs": [],
   "source": [
    "\n",
    "from sklearn.metrics import accuracy_score, precision_score, recall_score, f1_score, confusion_matrix\n",
    "\n",
    "# Evaluting the model\n",
    "acc = accuracy_score(y_test, y_pred)\n",
    "pre = precision_score(y_test, y_pred)\n",
    "rec = recall_score(y_test, y_pred)\n",
    "f1 = f1_score(y_test, y_pred)"
   ]
  },
  {
   "cell_type": "code",
   "execution_count": 56,
   "id": "z1SaTnK5Lq4p",
   "metadata": {
    "colab": {
     "base_uri": "https://localhost:8080/",
     "height": 89
    },
    "id": "z1SaTnK5Lq4p",
    "outputId": "0d0b802a-91c2-4f36-feff-1c1002f021cb"
   },
   "outputs": [
    {
     "data": {
      "text/html": [
       "<div>\n",
       "<style scoped>\n",
       "    .dataframe tbody tr th:only-of-type {\n",
       "        vertical-align: middle;\n",
       "    }\n",
       "\n",
       "    .dataframe tbody tr th {\n",
       "        vertical-align: top;\n",
       "    }\n",
       "\n",
       "    .dataframe thead th {\n",
       "        text-align: right;\n",
       "    }\n",
       "</style>\n",
       "<table border=\"1\" class=\"dataframe\">\n",
       "  <thead>\n",
       "    <tr style=\"text-align: right;\">\n",
       "      <th></th>\n",
       "      <th>Model</th>\n",
       "      <th>Accuracy</th>\n",
       "      <th>Precision</th>\n",
       "      <th>Recall</th>\n",
       "      <th>F1 Score</th>\n",
       "    </tr>\n",
       "  </thead>\n",
       "  <tbody>\n",
       "    <tr>\n",
       "      <th>0</th>\n",
       "      <td>KNN</td>\n",
       "      <td>0.921053</td>\n",
       "      <td>0.9</td>\n",
       "      <td>0.878049</td>\n",
       "      <td>0.888889</td>\n",
       "    </tr>\n",
       "  </tbody>\n",
       "</table>\n",
       "</div>"
      ],
      "text/plain": [
       "  Model  Accuracy  Precision    Recall  F1 Score\n",
       "0   KNN  0.921053        0.9  0.878049  0.888889"
      ]
     },
     "execution_count": 56,
     "metadata": {},
     "output_type": "execute_result"
    }
   ],
   "source": [
    "# Storing evaluation metrics to a dataframe\n",
    "results = pd.DataFrame([['KNN', acc, pre, rec, f1]],\n",
    "                       columns = ['Model', 'Accuracy', 'Precision', 'Recall', 'F1 Score'])\n",
    "\n",
    "results"
   ]
  },
  {
   "cell_type": "markdown",
   "id": "ffab19bc",
   "metadata": {
    "id": "ffab19bc",
    "papermill": {
     "duration": 0.045899,
     "end_time": "2022-10-05T16:30:28.736784",
     "exception": false,
     "start_time": "2022-10-05T16:30:28.690885",
     "status": "completed"
    },
    "tags": []
   },
   "source": [
    "### Random Forest"
   ]
  },
  {
   "cell_type": "code",
   "execution_count": 57,
   "id": "a03f34c4",
   "metadata": {
    "id": "a03f34c4"
   },
   "outputs": [],
   "source": [
    "from sklearn.ensemble import RandomForestClassifier"
   ]
  },
  {
   "cell_type": "code",
   "execution_count": 58,
   "id": "8f7330c5",
   "metadata": {
    "execution": {
     "iopub.execute_input": "2022-10-05T16:30:28.832407Z",
     "iopub.status.busy": "2022-10-05T16:30:28.831842Z",
     "iopub.status.idle": "2022-10-05T16:30:29.774460Z",
     "shell.execute_reply": "2022-10-05T16:30:29.773259Z"
    },
    "id": "8f7330c5",
    "papermill": {
     "duration": 0.995814,
     "end_time": "2022-10-05T16:30:29.777543",
     "exception": false,
     "start_time": "2022-10-05T16:30:28.781729",
     "status": "completed"
    },
    "tags": []
   },
   "outputs": [],
   "source": [
    "model = RandomForestClassifier(n_estimators=500, max_depth=3,random_state=123)\n",
    "model.fit(X_train, y_train)\n",
    "y_pred = model.predict(X_test)"
   ]
  },
  {
   "cell_type": "code",
   "execution_count": 59,
   "id": "b3d8baf2",
   "metadata": {
    "colab": {
     "base_uri": "https://localhost:8080/",
     "height": 677
    },
    "execution": {
     "iopub.execute_input": "2022-10-05T16:30:29.870328Z",
     "iopub.status.busy": "2022-10-05T16:30:29.869111Z",
     "iopub.status.idle": "2022-10-05T16:30:30.152825Z",
     "shell.execute_reply": "2022-10-05T16:30:30.151494Z"
    },
    "id": "b3d8baf2",
    "outputId": "52d8a756-1049-4d26-8dc6-4be6bb5f44e5",
    "papermill": {
     "duration": 0.33361,
     "end_time": "2022-10-05T16:30:30.155541",
     "exception": false,
     "start_time": "2022-10-05T16:30:29.821931",
     "status": "completed"
    },
    "tags": []
   },
   "outputs": [
    {
     "name": "stdout",
     "output_type": "stream",
     "text": [
      "Accuracy: 0.9736842105263158\n",
      "Precision: 0.975\n",
      "F1: 0.9629629629629629\n",
      "Recall: 0.9512195121951219\n",
      "              precision    recall  f1-score   support\n",
      "\n",
      "           0       0.97      0.99      0.98        73\n",
      "           1       0.97      0.95      0.96        41\n",
      "\n",
      "    accuracy                           0.97       114\n",
      "   macro avg       0.97      0.97      0.97       114\n",
      "weighted avg       0.97      0.97      0.97       114\n",
      "\n",
      "AxesSubplot(0.125,0.125;0.62x0.755)\n"
     ]
    },
    {
     "data": {
      "image/png": "[encoded data removed]",
      "text/plain": [
       "<Figure size 432x288 with 2 Axes>"
      ]
     },
     "metadata": {},
     "output_type": "display_data"
    }
   ],
   "source": [
    "print('Accuracy:',accuracy_score(y_test, y_pred))\n",
    "print('Precision:',precision_score(y_test, y_pred))\n",
    "print('F1:',f1_score(y_test, y_pred))\n",
    "print('Recall:',recall_score(y_test, y_pred))\n",
    "print(classification_report(y_test, y_pred))\n",
    "print(sns.heatmap(confusion_matrix(y_test, y_pred), annot=True))"
   ]
  },
  {
   "cell_type": "code",
   "execution_count": 60,
   "id": "iebRwA91K-pX",
   "metadata": {
    "id": "iebRwA91K-pX"
   },
   "outputs": [],
   "source": [
    "\n",
    "from sklearn.metrics import accuracy_score, precision_score, recall_score, f1_score, confusion_matrix\n",
    "\n",
    "# Evaluting the model\n",
    "acc = accuracy_score(y_test, y_pred)\n",
    "pre = precision_score(y_test, y_pred)\n",
    "rec = recall_score(y_test, y_pred)\n",
    "f1 = f1_score(y_test, y_pred)"
   ]
  },
  {
   "cell_type": "code",
   "execution_count": 61,
   "id": "y5dURAwtLArt",
   "metadata": {
    "colab": {
     "base_uri": "https://localhost:8080/",
     "height": 89
    },
    "id": "y5dURAwtLArt",
    "outputId": "56d991d9-96a0-42c5-b158-b81bcbffad38"
   },
   "outputs": [
    {
     "data": {
      "text/html": [
       "<div>\n",
       "<style scoped>\n",
       "    .dataframe tbody tr th:only-of-type {\n",
       "        vertical-align: middle;\n",
       "    }\n",
       "\n",
       "    .dataframe tbody tr th {\n",
       "        vertical-align: top;\n",
       "    }\n",
       "\n",
       "    .dataframe thead th {\n",
       "        text-align: right;\n",
       "    }\n",
       "</style>\n",
       "<table border=\"1\" class=\"dataframe\">\n",
       "  <thead>\n",
       "    <tr style=\"text-align: right;\">\n",
       "      <th></th>\n",
       "      <th>Model</th>\n",
       "      <th>Accuracy</th>\n",
       "      <th>Precision</th>\n",
       "      <th>Recall</th>\n",
       "      <th>F1 Score</th>\n",
       "    </tr>\n",
       "  </thead>\n",
       "  <tbody>\n",
       "    <tr>\n",
       "      <th>0</th>\n",
       "      <td>Random Forest</td>\n",
       "      <td>0.973684</td>\n",
       "      <td>0.975</td>\n",
       "      <td>0.95122</td>\n",
       "      <td>0.962963</td>\n",
       "    </tr>\n",
       "  </tbody>\n",
       "</table>\n",
       "</div>"
      ],
      "text/plain": [
       "           Model  Accuracy  Precision   Recall  F1 Score\n",
       "0  Random Forest  0.973684      0.975  0.95122  0.962963"
      ]
     },
     "execution_count": 61,
     "metadata": {},
     "output_type": "execute_result"
    }
   ],
   "source": [
    "# Storing evaluation metrics to a dataframe\n",
    "results = pd.DataFrame([['Random Forest', acc, pre, rec, f1]],\n",
    "                       columns = ['Model', 'Accuracy', 'Precision', 'Recall', 'F1 Score'])\n",
    "\n",
    "results"
   ]
  },
  {
   "cell_type": "markdown",
   "id": "23bf4d74",
   "metadata": {},
   "source": [
    "### Linear Regression"
   ]
  },
  {
   "cell_type": "code",
   "execution_count": 62,
   "id": "4-DTn9VSScnu",
   "metadata": {
    "id": "4-DTn9VSScnu"
   },
   "outputs": [],
   "source": [
    "from sklearn.linear_model import LinearRegression"
   ]
  },
  {
   "cell_type": "code",
   "execution_count": 63,
   "id": "StOYxVK1SgPP",
   "metadata": {
    "id": "StOYxVK1SgPP"
   },
   "outputs": [],
   "source": [
    "import matplotlib.pyplot as plt\n",
    "import numpy as np\n",
    "from sklearn import datasets, linear_model\n",
    "from sklearn.metrics import mean_squared_error, r2_score\n"
   ]
  },
  {
   "cell_type": "code",
   "execution_count": 64,
   "id": "k5nvx0tvSjQx",
   "metadata": {
    "id": "k5nvx0tvSjQx"
   },
   "outputs": [],
   "source": [
    "# Create linear regression object\n",
    "regr = linear_model.LinearRegression()"
   ]
  },
  {
   "cell_type": "code",
   "execution_count": 65,
   "id": "o2_VvGsTSlRd",
   "metadata": {
    "colab": {
     "base_uri": "https://localhost:8080/",
     "height": 75
    },
    "id": "o2_VvGsTSlRd",
    "outputId": "abe68a5a-86f7-4161-b240-c37396d2adf8"
   },
   "outputs": [
    {
     "data": {
      "text/html": [
       "<style>#sk-container-id-2 {color: black;}#sk-container-id-2 pre{padding: 0;}#sk-container-id-2 div.sk-toggleable {background-color: white;}#sk-container-id-2 label.sk-toggleable__label {cursor: pointer;display: block;width: 100%;margin-bottom: 0;padding: 0.3em;box-sizing: border-box;text-align: center;}#sk-container-id-2 label.sk-toggleable__label-arrow:before {content: \"▸\";float: left;margin-right: 0.25em;color: #696969;}#sk-container-id-2 label.sk-toggleable__label-arrow:hover:before {color: black;}#sk-container-id-2 div.sk-estimator:hover label.sk-toggleable__label-arrow:before {color: black;}#sk-container-id-2 div.sk-toggleable__content {max-height: 0;max-width: 0;overflow: hidden;text-align: left;background-color: #f0f8ff;}#sk-container-id-2 div.sk-toggleable__content pre {margin: 0.2em;color: black;border-radius: 0.25em;background-color: #f0f8ff;}#sk-container-id-2 input.sk-toggleable__control:checked~div.sk-toggleable__content {max-height: 200px;max-width: 100%;overflow: auto;}#sk-container-id-2 input.sk-toggleable__control:checked~label.sk-toggleable__label-arrow:before {content: \"▾\";}#sk-container-id-2 div.sk-estimator input.sk-toggleable__control:checked~label.sk-toggleable__label {background-color: #d4ebff;}#sk-container-id-2 div.sk-label input.sk-toggleable__control:checked~label.sk-toggleable__label {background-color: #d4ebff;}#sk-container-id-2 input.sk-hidden--visually {border: 0;clip: rect(1px 1px 1px 1px);clip: rect(1px, 1px, 1px, 1px);height: 1px;margin: -1px;overflow: hidden;padding: 0;position: absolute;width: 1px;}#sk-container-id-2 div.sk-estimator {font-family: monospace;background-color: #f0f8ff;border: 1px dotted black;border-radius: 0.25em;box-sizing: border-box;margin-bottom: 0.5em;}#sk-container-id-2 div.sk-estimator:hover {background-color: #d4ebff;}#sk-container-id-2 div.sk-parallel-item::after {content: \"\";width: 100%;border-bottom: 1px solid gray;flex-grow: 1;}#sk-container-id-2 div.sk-label:hover label.sk-toggleable__label {background-color: #d4ebff;}#sk-container-id-2 div.sk-serial::before {content: \"\";position: absolute;border-left: 1px solid gray;box-sizing: border-box;top: 0;bottom: 0;left: 50%;z-index: 0;}#sk-container-id-2 div.sk-serial {display: flex;flex-direction: column;align-items: center;background-color: white;padding-right: 0.2em;padding-left: 0.2em;position: relative;}#sk-container-id-2 div.sk-item {position: relative;z-index: 1;}#sk-container-id-2 div.sk-parallel {display: flex;align-items: stretch;justify-content: center;background-color: white;position: relative;}#sk-container-id-2 div.sk-item::before, #sk-container-id-2 div.sk-parallel-item::before {content: \"\";position: absolute;border-left: 1px solid gray;box-sizing: border-box;top: 0;bottom: 0;left: 50%;z-index: -1;}#sk-container-id-2 div.sk-parallel-item {display: flex;flex-direction: column;z-index: 1;position: relative;background-color: white;}#sk-container-id-2 div.sk-parallel-item:first-child::after {align-self: flex-end;width: 50%;}#sk-container-id-2 div.sk-parallel-item:last-child::after {align-self: flex-start;width: 50%;}#sk-container-id-2 div.sk-parallel-item:only-child::after {width: 0;}#sk-container-id-2 div.sk-dashed-wrapped {border: 1px dashed gray;margin: 0 0.4em 0.5em 0.4em;box-sizing: border-box;padding-bottom: 0.4em;background-color: white;}#sk-container-id-2 div.sk-label label {font-family: monospace;font-weight: bold;display: inline-block;line-height: 1.2em;}#sk-container-id-2 div.sk-label-container {text-align: center;}#sk-container-id-2 div.sk-container {/* jupyter's `normalize.less` sets `[hidden] { display: none; }` but bootstrap.min.css set `[hidden] { display: none !important; }` so we also need the `!important` here to be able to override the default hidden behavior on the sphinx rendered scikit-learn.org. See: https://github.com/scikit-learn/scikit-learn/issues/21755 */display: inline-block !important;position: relative;}#sk-container-id-2 div.sk-text-repr-fallback {display: none;}</style><div id=\"sk-container-id-2\" class=\"sk-top-container\"><div class=\"sk-text-repr-fallback\"><pre>LinearRegression()</pre><b>In a Jupyter environment, please rerun this cell to show the HTML representation or trust the notebook. <br />On GitHub, the HTML representation is unable to render, please try loading this page with nbviewer.org.</b></div><div class=\"sk-container\" hidden><div class=\"sk-item\"><div class=\"sk-estimator sk-toggleable\"><input class=\"sk-toggleable__control sk-hidden--visually\" id=\"sk-estimator-id-4\" type=\"checkbox\" checked><label for=\"sk-estimator-id-4\" class=\"sk-toggleable__label sk-toggleable__label-arrow\">LinearRegression</label><div class=\"sk-toggleable__content\"><pre>LinearRegression()</pre></div></div></div></div></div>"
      ],
      "text/plain": [
       "LinearRegression()"
      ]
     },
     "execution_count": 65,
     "metadata": {},
     "output_type": "execute_result"
    }
   ],
   "source": [
    "# Train the model using the training sets\n",
    "regr.fit(X_train, y_train)"
   ]
  },
  {
   "cell_type": "code",
   "execution_count": 66,
   "id": "gCajaOkjSvdv",
   "metadata": {
    "id": "gCajaOkjSvdv"
   },
   "outputs": [],
   "source": [
    "# Make predictions using the testing set\n",
    "y_pred = regr.predict(X_test)"
   ]
  },
  {
   "cell_type": "code",
   "execution_count": 67,
   "id": "-IrHQ2mFSzGt",
   "metadata": {
    "colab": {
     "base_uri": "https://localhost:8080/"
    },
    "id": "-IrHQ2mFSzGt",
    "outputId": "da852922-16b4-41be-9c93-0fc8adc6da05"
   },
   "outputs": [
    {
     "name": "stdout",
     "output_type": "stream",
     "text": [
      "Coefficients: \n",
      " [ 1.03930658e+01  6.48051919e-01 -8.27483256e+00 -1.89999651e+00\n",
      "  1.91876775e-01  1.53880951e-01  2.41923085e-01  1.27779786e+00\n",
      "  2.13536113e-01 -1.51207439e-04]\n"
     ]
    }
   ],
   "source": [
    "# The coefficients\n",
    "print(\"Coefficients: \\n\", regr.coef_)"
   ]
  },
  {
   "cell_type": "code",
   "execution_count": 68,
   "id": "QVMPxSaaS1PN",
   "metadata": {
    "colab": {
     "base_uri": "https://localhost:8080/"
    },
    "id": "QVMPxSaaS1PN",
    "outputId": "fc08df90-4992-48e1-baae-f2a3c05636f0"
   },
   "outputs": [
    {
     "name": "stdout",
     "output_type": "stream",
     "text": [
      "Mean squared error: 0.08\n"
     ]
    }
   ],
   "source": [
    "# The mean squared error\n",
    "print(\"Mean squared error: %.2f\" % mean_squared_error(y_test,y_pred))"
   ]
  },
  {
   "cell_type": "code",
   "execution_count": 69,
   "id": "v9L4qDP2S7dn",
   "metadata": {
    "colab": {
     "base_uri": "https://localhost:8080/"
    },
    "id": "v9L4qDP2S7dn",
    "outputId": "5273dea2-14da-4129-b93c-d7c54dfc7cb9"
   },
   "outputs": [
    {
     "name": "stdout",
     "output_type": "stream",
     "text": [
      "Coefficient of determination: 0.67\n"
     ]
    }
   ],
   "source": [
    "# The coefficient of determination: 1 is perfect prediction\n",
    "print(\"Coefficient of determination: %.2f\" % r2_score(y_test,y_pred))"
   ]
  },
  {
   "cell_type": "code",
   "execution_count": 70,
   "id": "1WKjJ6CfVfEd",
   "metadata": {
    "colab": {
     "base_uri": "https://localhost:8080/",
     "height": 89
    },
    "id": "1WKjJ6CfVfEd",
    "outputId": "c8f04ef8-2597-4d9a-8106-a0e8bffa662f"
   },
   "outputs": [
    {
     "data": {
      "text/html": [
       "<div>\n",
       "<style scoped>\n",
       "    .dataframe tbody tr th:only-of-type {\n",
       "        vertical-align: middle;\n",
       "    }\n",
       "\n",
       "    .dataframe tbody tr th {\n",
       "        vertical-align: top;\n",
       "    }\n",
       "\n",
       "    .dataframe thead th {\n",
       "        text-align: right;\n",
       "    }\n",
       "</style>\n",
       "<table border=\"1\" class=\"dataframe\">\n",
       "  <thead>\n",
       "    <tr style=\"text-align: right;\">\n",
       "      <th></th>\n",
       "      <th>Model</th>\n",
       "      <th>Accuracy</th>\n",
       "      <th>Precision</th>\n",
       "      <th>Recall</th>\n",
       "      <th>F1 Score</th>\n",
       "    </tr>\n",
       "  </thead>\n",
       "  <tbody>\n",
       "    <tr>\n",
       "      <th>0</th>\n",
       "      <td>KNN</td>\n",
       "      <td>0.973684</td>\n",
       "      <td>0.975</td>\n",
       "      <td>0.95122</td>\n",
       "      <td>0.962963</td>\n",
       "    </tr>\n",
       "  </tbody>\n",
       "</table>\n",
       "</div>"
      ],
      "text/plain": [
       "  Model  Accuracy  Precision   Recall  F1 Score\n",
       "0   KNN  0.973684      0.975  0.95122  0.962963"
      ]
     },
     "execution_count": 70,
     "metadata": {},
     "output_type": "execute_result"
    }
   ],
   "source": [
    "# Storing evaluation metrics to a dataframe\n",
    "results = pd.DataFrame([['KNN', acc, pre, rec, f1]],\n",
    "                       columns = ['Model', 'Accuracy', 'Precision', 'Recall', 'F1 Score'])\n",
    "\n",
    "results"
   ]
  },
  {
   "cell_type": "code",
   "execution_count": 71,
   "id": "f15Cw7FDWBJ5",
   "metadata": {
    "colab": {
     "base_uri": "https://localhost:8080/",
     "height": 89
    },
    "id": "f15Cw7FDWBJ5",
    "outputId": "56d991d9-96a0-42c5-b158-b81bcbffad38"
   },
   "outputs": [
    {
     "data": {
      "text/html": [
       "<div>\n",
       "<style scoped>\n",
       "    .dataframe tbody tr th:only-of-type {\n",
       "        vertical-align: middle;\n",
       "    }\n",
       "\n",
       "    .dataframe tbody tr th {\n",
       "        vertical-align: top;\n",
       "    }\n",
       "\n",
       "    .dataframe thead th {\n",
       "        text-align: right;\n",
       "    }\n",
       "</style>\n",
       "<table border=\"1\" class=\"dataframe\">\n",
       "  <thead>\n",
       "    <tr style=\"text-align: right;\">\n",
       "      <th></th>\n",
       "      <th>Model</th>\n",
       "      <th>Accuracy</th>\n",
       "      <th>Precision</th>\n",
       "      <th>Recall</th>\n",
       "      <th>F1 Score</th>\n",
       "    </tr>\n",
       "  </thead>\n",
       "  <tbody>\n",
       "    <tr>\n",
       "      <th>0</th>\n",
       "      <td>Random Forest</td>\n",
       "      <td>0.973684</td>\n",
       "      <td>0.975</td>\n",
       "      <td>0.95122</td>\n",
       "      <td>0.962963</td>\n",
       "    </tr>\n",
       "  </tbody>\n",
       "</table>\n",
       "</div>"
      ],
      "text/plain": [
       "           Model  Accuracy  Precision   Recall  F1 Score\n",
       "0  Random Forest  0.973684      0.975  0.95122  0.962963"
      ]
     },
     "execution_count": 71,
     "metadata": {},
     "output_type": "execute_result"
    }
   ],
   "source": [
    "# Storing evaluation metrics to a dataframe\n",
    "results = pd.DataFrame([['Random Forest', acc, pre, rec, f1]],\n",
    "                       columns = ['Model', 'Accuracy', 'Precision', 'Recall', 'F1 Score'])\n",
    "\n",
    "results"
   ]
  },
  {
   "cell_type": "code",
   "execution_count": 72,
   "id": "XRpUuR4YVyiE",
   "metadata": {
    "colab": {
     "base_uri": "https://localhost:8080/",
     "height": 89
    },
    "id": "XRpUuR4YVyiE",
    "outputId": "51c46da8-f3b1-4a92-e632-d9ffdc41155c"
   },
   "outputs": [
    {
     "data": {
      "text/html": [
       "<div>\n",
       "<style scoped>\n",
       "    .dataframe tbody tr th:only-of-type {\n",
       "        vertical-align: middle;\n",
       "    }\n",
       "\n",
       "    .dataframe tbody tr th {\n",
       "        vertical-align: top;\n",
       "    }\n",
       "\n",
       "    .dataframe thead th {\n",
       "        text-align: right;\n",
       "    }\n",
       "</style>\n",
       "<table border=\"1\" class=\"dataframe\">\n",
       "  <thead>\n",
       "    <tr style=\"text-align: right;\">\n",
       "      <th></th>\n",
       "      <th>Model</th>\n",
       "      <th>Accuracy</th>\n",
       "      <th>Precision</th>\n",
       "      <th>Recall</th>\n",
       "      <th>F1 Score</th>\n",
       "    </tr>\n",
       "  </thead>\n",
       "  <tbody>\n",
       "    <tr>\n",
       "      <th>0</th>\n",
       "      <td>Logistic Regression</td>\n",
       "      <td>0.973684</td>\n",
       "      <td>0.975</td>\n",
       "      <td>0.95122</td>\n",
       "      <td>0.962963</td>\n",
       "    </tr>\n",
       "  </tbody>\n",
       "</table>\n",
       "</div>"
      ],
      "text/plain": [
       "                 Model  Accuracy  Precision   Recall  F1 Score\n",
       "0  Logistic Regression  0.973684      0.975  0.95122  0.962963"
      ]
     },
     "execution_count": 72,
     "metadata": {},
     "output_type": "execute_result"
    }
   ],
   "source": [
    "# Storing evaluation metrics to a dataframe\n",
    "results = pd.DataFrame([['Logistic Regression', acc, pre, rec, f1]],\n",
    "                       columns = ['Model', 'Accuracy', 'Precision', 'Recall', 'F1 Score'])\n",
    "\n",
    "results"
   ]
  },
  {
   "cell_type": "code",
   "execution_count": 73,
   "id": "C2Nz2pKvV7Ig",
   "metadata": {
    "colab": {
     "base_uri": "https://localhost:8080/",
     "height": 89
    },
    "id": "C2Nz2pKvV7Ig",
    "outputId": "8acbbcd2-6045-4e1b-e682-f281026f36f1"
   },
   "outputs": [
    {
     "data": {
      "text/html": [
       "<div>\n",
       "<style scoped>\n",
       "    .dataframe tbody tr th:only-of-type {\n",
       "        vertical-align: middle;\n",
       "    }\n",
       "\n",
       "    .dataframe tbody tr th {\n",
       "        vertical-align: top;\n",
       "    }\n",
       "\n",
       "    .dataframe thead th {\n",
       "        text-align: right;\n",
       "    }\n",
       "</style>\n",
       "<table border=\"1\" class=\"dataframe\">\n",
       "  <thead>\n",
       "    <tr style=\"text-align: right;\">\n",
       "      <th></th>\n",
       "      <th>Model</th>\n",
       "      <th>Accuracy</th>\n",
       "      <th>Precision</th>\n",
       "      <th>Recall</th>\n",
       "      <th>F1 Score</th>\n",
       "    </tr>\n",
       "  </thead>\n",
       "  <tbody>\n",
       "    <tr>\n",
       "      <th>0</th>\n",
       "      <td>DecisionTreeClassifier</td>\n",
       "      <td>0.973684</td>\n",
       "      <td>0.975</td>\n",
       "      <td>0.95122</td>\n",
       "      <td>0.962963</td>\n",
       "    </tr>\n",
       "  </tbody>\n",
       "</table>\n",
       "</div>"
      ],
      "text/plain": [
       "                    Model  Accuracy  Precision   Recall  F1 Score\n",
       "0  DecisionTreeClassifier  0.973684      0.975  0.95122  0.962963"
      ]
     },
     "execution_count": 73,
     "metadata": {},
     "output_type": "execute_result"
    }
   ],
   "source": [
    "# Storing evaluation metrics to a dataframe\n",
    "results = pd.DataFrame([['DecisionTreeClassifier', acc, pre, rec, f1]],\n",
    "                       columns = ['Model', 'Accuracy', 'Precision', 'Recall', 'F1 Score'])\n",
    "\n",
    "results"
   ]
  },
  {
   "cell_type": "code",
   "execution_count": null,
   "id": "a694b1ba",
   "metadata": {},
   "outputs": [],
   "source": []
  }
 ],
 "metadata": {
  "colab": {
   "include_colab_link": true,
   "provenance": []
  },
  "kernelspec": {
   "display_name": "Python 3 (ipykernel)",
   "language": "python",
   "name": "python3"
  },
  "language_info": {
   "codemirror_mode": {
    "name": "ipython",
    "version": 3
   },
   "file_extension": ".py",
   "mimetype": "text/x-python",
   "name": "python",
   "nbconvert_exporter": "python",
   "pygments_lexer": "ipython3",
   "version": "3.9.12"
  },
  "papermill": {
   "default_parameters": {},
   "duration": 54.069778,
   "end_time": "2022-10-05T16:30:31.991818",
   "environment_variables": {},
   "exception": null,
   "input_path": "__notebook__.ipynb",
   "output_path": "__notebook__.ipynb",
   "parameters": {},
   "start_time": "2022-10-05T16:29:37.922040",
   "version": "2.3.4"
  }
 },
 "nbformat": 4,
 "nbformat_minor": 5
}
